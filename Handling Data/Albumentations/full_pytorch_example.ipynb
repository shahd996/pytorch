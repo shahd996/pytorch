{
 "cells": [
  {
   "cell_type": "code",
   "execution_count": 5,
   "id": "0deae690",
   "metadata": {},
   "outputs": [],
   "source": [
    "%reload_ext autoreload\n",
    "%autoreload 2\n",
    "import cv2\n",
    "import albumentations as A\n",
    "import numpy as np\n",
    "from utils import plot_examples\n",
    "from PIL import Image\n",
    "from albumentations.pytorch import ToTensorV2\n",
    "import os\n",
    "import torch\n",
    "import torch.nn as nn"
   ]
  },
  {
   "cell_type": "code",
   "execution_count": 6,
   "id": "ae82cc03",
   "metadata": {},
   "outputs": [],
   "source": [
    "class ImageFolder(nn.Module):\n",
    "    def __init__(self, root_dir, transform=None):\n",
    "        super(ImageFolder, self).__init__()\n",
    "        # [(cat_0.jpg, 0), ... (dog_0.jpg, 1)]\n",
    "        self.data = []\n",
    "        \n",
    "        self.root_dir = root_dir\n",
    "        self.transform = transform\n",
    "        self.class_names = os.listdir(root_dir)\n",
    "        \n",
    "        for index, name in enumerate(self.class_names):\n",
    "            files = os.listdir(os.path.join(root_dir, name))\n",
    "            self.data += list(zip(files, [index] * len(files)))\n",
    "        \n",
    "    def __len__(self):\n",
    "        return len(self.data)\n",
    "\n",
    "    def __getitem__(self, index):\n",
    "        img_file, label = self.data[index]\n",
    "        root_and_dir = os.path.join(self.root_dir, self.class_names[label])\n",
    "        image = np.array(Image.open(os.path.join(root_and_dir, img_file)))\n",
    "        \n",
    "        if self.transform is not None:\n",
    "            augmentations = self.transform(image = image)\n",
    "            image = augmentations['image']\n",
    "        \n",
    "        return image, label\n",
    "    \n"
   ]
  },
  {
   "cell_type": "code",
   "execution_count": 7,
   "id": "aa5fb7f2",
   "metadata": {},
   "outputs": [],
   "source": [
    "transform = A.Compose(\n",
    "    [\n",
    "        A.Resize(width=1920, height=1080),\n",
    "        A.RandomCrop(width=1280, height=720),\n",
    "        A.Rotate(limit=40, p=0.9, border_mode=cv2.BORDER_CONSTANT),\n",
    "        A.HorizontalFlip(p=0.5),\n",
    "        A.VerticalFlip(p=0.1),\n",
    "        A.RGBShift(r_shift_limit=25, g_shift_limit=25, b_shift_limit=25, p=0.9),\n",
    "        A.OneOf([# choose one of several data augmentations\n",
    "            A.Blur(blur_limit=3, p=0.5),\n",
    "            A.ColorJitter(p=0.5)\n",
    "        ], p=1.0),\n",
    "        A.Normalize(\n",
    "            mean=[0,0,0],\n",
    "            std=[1,1,1],\n",
    "            max_pixel_value=255 # default: 255\n",
    "        ),\n",
    "        ToTensorV2()\n",
    "    ]\n",
    ")"
   ]
  },
  {
   "cell_type": "code",
   "execution_count": 8,
   "id": "e3078589",
   "metadata": {},
   "outputs": [
    {
     "name": "stdout",
     "output_type": "stream",
     "text": [
      "torch.Size([3, 720, 1280])\n",
      "torch.Size([3, 720, 1280])\n",
      "torch.Size([3, 720, 1280])\n",
      "torch.Size([3, 720, 1280])\n",
      "torch.Size([3, 720, 1280])\n",
      "torch.Size([3, 720, 1280])\n",
      "torch.Size([3, 720, 1280])\n",
      "torch.Size([3, 720, 1280])\n",
      "torch.Size([3, 720, 1280])\n",
      "torch.Size([3, 720, 1280])\n",
      "torch.Size([3, 720, 1280])\n",
      "torch.Size([3, 720, 1280])\n",
      "torch.Size([3, 720, 1280])\n",
      "torch.Size([3, 720, 1280])\n",
      "torch.Size([3, 720, 1280])\n",
      "torch.Size([3, 720, 1280])\n",
      "torch.Size([3, 720, 1280])\n",
      "torch.Size([3, 720, 1280])\n",
      "torch.Size([3, 720, 1280])\n"
     ]
    }
   ],
   "source": [
    "dataset = ImageFolder(root_dir=\"cat_dogs\", transform=transform)\n",
    "\n",
    "for x, y in dataset:\n",
    "    print(x.shape)"
   ]
  },
  {
   "cell_type": "code",
   "execution_count": null,
   "id": "8d259158",
   "metadata": {},
   "outputs": [],
   "source": []
  }
 ],
 "metadata": {
  "kernelspec": {
   "display_name": "Python 3",
   "language": "python",
   "name": "python3"
  },
  "language_info": {
   "codemirror_mode": {
    "name": "ipython",
    "version": 3
   },
   "file_extension": ".py",
   "mimetype": "text/x-python",
   "name": "python",
   "nbconvert_exporter": "python",
   "pygments_lexer": "ipython3",
   "version": "3.8.8"
  }
 },
 "nbformat": 4,
 "nbformat_minor": 5
}
