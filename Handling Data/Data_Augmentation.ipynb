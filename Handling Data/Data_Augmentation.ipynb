{
 "cells": [
  {
   "cell_type": "code",
   "execution_count": 1,
   "id": "55fac82a",
   "metadata": {},
   "outputs": [],
   "source": [
    "%reload_ext autoreload\n",
    "%autoreload 2\n",
    "\n",
    "import torch\n",
    "import torchvision.transforms as transforms\n",
    "from torchvision.utils import save_image\n",
    "from custom_dataset import CatsAndDogsDataset"
   ]
  },
  {
   "cell_type": "markdown",
   "id": "fd86a519",
   "metadata": {},
   "source": [
    "### Transforms"
   ]
  },
  {
   "cell_type": "code",
   "execution_count": 15,
   "id": "7e6ee1f6",
   "metadata": {},
   "outputs": [],
   "source": [
    "# my_transforms = transforms.ToTensor() # numpy array to tensors\n",
    "\n",
    "my_transforms = transforms.Compose([\n",
    "    transforms.ToPILImage(),\n",
    "    transforms.Resize((256,256)),\n",
    "    transforms.RandomCrop((224,224)),\n",
    "    transforms.ColorJitter(brightness=0.5),\n",
    "    transforms.RandomRotation(degrees=45),\n",
    "    transforms.RandomVerticalFlip(p=0.1),\n",
    "    transforms.RandomHorizontalFlip(p=0.5),\n",
    "    transforms.RandomGrayscale(p=0.2),\n",
    "    transforms.ToTensor(),\n",
    "#     transforms.Normalize(mean=[0.0, 0.0, 0.0], std=[1.0, 1.0, 1.0]) -> find mean,std and put them as params\n",
    "])"
   ]
  },
  {
   "cell_type": "markdown",
   "id": "253f4ed8",
   "metadata": {},
   "source": [
    "### Load Data"
   ]
  },
  {
   "cell_type": "code",
   "execution_count": 16,
   "id": "bc079522",
   "metadata": {},
   "outputs": [],
   "source": [
    "dataset = CatsAndDogsDataset(csv_file='cats_dogs.csv', root_dir = 'cats_dogs_resized', transform=my_transforms)"
   ]
  },
  {
   "cell_type": "markdown",
   "id": "6c032e1e",
   "metadata": {},
   "source": [
    "### Create & Save newly-created transformed images"
   ]
  },
  {
   "cell_type": "code",
   "execution_count": 17,
   "id": "17b642f1",
   "metadata": {},
   "outputs": [],
   "source": [
    "img_num = 0\n",
    "for _ in range(1):\n",
    "    for img, label in dataset:\n",
    "        save_image(img, 'img'+str(img_num)+'.png')\n",
    "        img_num += 1"
   ]
  },
  {
   "cell_type": "code",
   "execution_count": null,
   "id": "b0b57e5f",
   "metadata": {},
   "outputs": [],
   "source": []
  }
 ],
 "metadata": {
  "kernelspec": {
   "display_name": "Python 3 (ipykernel)",
   "language": "python",
   "name": "python3"
  },
  "language_info": {
   "codemirror_mode": {
    "name": "ipython",
    "version": 3
   },
   "file_extension": ".py",
   "mimetype": "text/x-python",
   "name": "python",
   "nbconvert_exporter": "python",
   "pygments_lexer": "ipython3",
   "version": "3.9.7"
  }
 },
 "nbformat": 4,
 "nbformat_minor": 5
}
