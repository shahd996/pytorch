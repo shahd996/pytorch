{
 "cells": [
  {
   "cell_type": "code",
   "execution_count": 30,
   "id": "31f975e9",
   "metadata": {},
   "outputs": [],
   "source": [
    "import torch\n",
    "import torch.nn as nn\n",
    "import torch.optim as optim\n",
    "from PIL import Image\n",
    "import torchvision.transforms as transforms\n",
    "import torchvision.models as models\n",
    "from torchvision.utils import save_image\n",
    "import matplotlib.pyplot as plt"
   ]
  },
  {
   "cell_type": "markdown",
   "id": "ab6fb37d",
   "metadata": {},
   "source": [
    "## Hyperparameters"
   ]
  },
  {
   "cell_type": "code",
   "execution_count": 31,
   "id": "8d027baf",
   "metadata": {},
   "outputs": [],
   "source": [
    "total_steps = 6000\n",
    "learning_rate = 0.001\n",
    "alpha = 1 # content\n",
    "beta = 0.3 # style\n",
    "\n",
    "device = torch.device('cpu')\n",
    "image_size = 328\n",
    "LOAD_DATA = True\n",
    "LOAD_MODEL_FILE = \"overfit.pth.tar\""
   ]
  },
  {
   "cell_type": "markdown",
   "id": "b54c5c20",
   "metadata": {},
   "source": [
    "## Transforms"
   ]
  },
  {
   "cell_type": "code",
   "execution_count": 32,
   "id": "1b00fecc",
   "metadata": {},
   "outputs": [],
   "source": [
    "loader = transforms.Compose([\n",
    "    transforms.Resize((image_size, image_size)),\n",
    "    transforms.ToTensor(),\n",
    "    # transforms.Normalize(mean=[], std=[]) // we don't do it here\n",
    "])"
   ]
  },
  {
   "cell_type": "markdown",
   "id": "d30cf458",
   "metadata": {},
   "source": [
    "### VGG Model - Transfer Learning"
   ]
  },
  {
   "cell_type": "markdown",
   "id": "a0ed248d",
   "metadata": {},
   "source": [
    "Remember: We're taking a number of \"intermediate\" output from the VGG19 models: Take 0, 5, 10, 19, 28 layers"
   ]
  },
  {
   "cell_type": "code",
   "execution_count": 33,
   "id": "52cee8cb",
   "metadata": {},
   "outputs": [],
   "source": [
    "class VGG(nn.Module):\n",
    "    def __init__(self):\n",
    "        super(VGG, self).__init__()\n",
    "        self.chosen_features = ['0','5','10','19','28']\n",
    "        self.model = models.vgg19(pretrained=True).features[:29] # we don't need 29~ layers\n",
    "    \n",
    "    def forward(self, x):\n",
    "        features = []\n",
    "        \n",
    "        for layer_num, layer in enumerate(self.model):\n",
    "            x = layer(x)\n",
    "            if str(layer_num) in self.chosen_features:\n",
    "                features.append(x)\n",
    "                \n",
    "        return features"
   ]
  },
  {
   "cell_type": "code",
   "execution_count": 34,
   "id": "8f594e4c",
   "metadata": {},
   "outputs": [],
   "source": [
    "def load_image(image_name):\n",
    "    image = Image.open(image_name) # PIL library\n",
    "    image = loader(image).unsqueeze(0) # we need additional dimension\n",
    "    return image"
   ]
  },
  {
   "cell_type": "markdown",
   "id": "d4c4a122",
   "metadata": {},
   "source": [
    "## Content/Style/Generated Images"
   ]
  },
  {
   "cell_type": "markdown",
   "id": "883bde14",
   "metadata": {},
   "source": [
    "### Content & Style Images"
   ]
  },
  {
   "cell_type": "code",
   "execution_count": 35,
   "id": "493d839f",
   "metadata": {},
   "outputs": [],
   "source": [
    "content_img = load_image(\"mom1.jpeg\")\n",
    "style_img = load_image('filter2.jpeg')"
   ]
  },
  {
   "cell_type": "code",
   "execution_count": 36,
   "id": "204c7200",
   "metadata": {},
   "outputs": [
    {
     "data": {
      "text/plain": [
       "torch.Size([1, 3, 328, 328])"
      ]
     },
     "execution_count": 36,
     "metadata": {},
     "output_type": "execute_result"
    }
   ],
   "source": [
    "content_img.shape"
   ]
  },
  {
   "cell_type": "markdown",
   "id": "6eb62e35",
   "metadata": {},
   "source": [
    "### Generated Images - we perform gradient descent on this image"
   ]
  },
  {
   "cell_type": "code",
   "execution_count": 37,
   "id": "d8b1c838",
   "metadata": {},
   "outputs": [],
   "source": [
    "generated = torch.randn(content_img.shape, device=device, requires_grad = True)\n",
    "\n",
    "if LOAD_DATA == True:\n",
    "    generated = load_image('generated.png')\n",
    "else:\n",
    "    generated = content_img.clone().requires_grad_(True)"
   ]
  },
  {
   "cell_type": "markdown",
   "id": "1f14eae2",
   "metadata": {},
   "source": [
    "### Model"
   ]
  },
  {
   "cell_type": "code",
   "execution_count": 38,
   "id": "63cd31e1",
   "metadata": {},
   "outputs": [],
   "source": [
    "model = VGG().to(device).eval() #VGG().to(device=device).eval() - freeze parameters"
   ]
  },
  {
   "cell_type": "markdown",
   "id": "81e5df8c",
   "metadata": {},
   "source": [
    "### Load & Save checkpoint"
   ]
  },
  {
   "cell_type": "code",
   "execution_count": 39,
   "id": "df42dabd",
   "metadata": {},
   "outputs": [],
   "source": [
    "def save_checkpoint(state, filename=\"my_checkpoint.pth.tar\"):\n",
    "    print(\"=> Saving checkpoint\")\n",
    "    torch.save(state, filename)\n",
    "\n",
    "\n",
    "def load_checkpoint(checkpoint, optimizer):\n",
    "    print(\"=> Loading checkpoint\")\n",
    "    optimizer.load_state_dict(checkpoint[\"optimizer\"])"
   ]
  },
  {
   "cell_type": "markdown",
   "id": "8b90c1ff",
   "metadata": {},
   "source": [
    "### Optimizer"
   ]
  },
  {
   "cell_type": "code",
   "execution_count": 40,
   "id": "d0723779",
   "metadata": {},
   "outputs": [],
   "source": [
    "optimizer = optim.Adam([generated], lr=learning_rate)"
   ]
  },
  {
   "cell_type": "code",
   "execution_count": 41,
   "id": "2b8bf002",
   "metadata": {},
   "outputs": [],
   "source": [
    "# if LOAD_DATA:\n",
    "#     load_checkpoint(torch.load(LOAD_MODEL_FILE), optimizer)"
   ]
  },
  {
   "cell_type": "code",
   "execution_count": 42,
   "id": "cefb6549",
   "metadata": {
    "scrolled": false
   },
   "outputs": [
    {
     "name": "stdout",
     "output_type": "stream",
     "text": [
      "--------Step 0--------\n",
      "Total Loss: 7881.265625\n",
      "=> Saving checkpoint\n",
      "---------Image Saved---------\n",
      "\n",
      "--------Step 10--------\n",
      "Total Loss: 7881.265625\n",
      "=> Saving checkpoint\n",
      "---------Image Saved---------\n",
      "\n"
     ]
    },
    {
     "ename": "KeyboardInterrupt",
     "evalue": "",
     "output_type": "error",
     "traceback": [
      "\u001b[0;31m---------------------------------------------------------------------------\u001b[0m",
      "\u001b[0;31mKeyboardInterrupt\u001b[0m                         Traceback (most recent call last)",
      "\u001b[0;32m/var/folders/cp/hj2ty6s546gg413qfzt3915h0000gn/T/ipykernel_99087/3880291903.py\u001b[0m in \u001b[0;36m<module>\u001b[0;34m\u001b[0m\n\u001b[1;32m     32\u001b[0m     \u001b[0;31m# Backprop\u001b[0m\u001b[0;34m\u001b[0m\u001b[0;34m\u001b[0m\u001b[0m\n\u001b[1;32m     33\u001b[0m     \u001b[0moptimizer\u001b[0m\u001b[0;34m.\u001b[0m\u001b[0mzero_grad\u001b[0m\u001b[0;34m(\u001b[0m\u001b[0;34m)\u001b[0m\u001b[0;34m\u001b[0m\u001b[0;34m\u001b[0m\u001b[0m\n\u001b[0;32m---> 34\u001b[0;31m     \u001b[0mtotal_loss\u001b[0m\u001b[0;34m.\u001b[0m\u001b[0mbackward\u001b[0m\u001b[0;34m(\u001b[0m\u001b[0;34m)\u001b[0m\u001b[0;34m\u001b[0m\u001b[0;34m\u001b[0m\u001b[0m\n\u001b[0m\u001b[1;32m     35\u001b[0m     \u001b[0moptimizer\u001b[0m\u001b[0;34m.\u001b[0m\u001b[0mstep\u001b[0m\u001b[0;34m(\u001b[0m\u001b[0;34m)\u001b[0m\u001b[0;34m\u001b[0m\u001b[0;34m\u001b[0m\u001b[0m\n\u001b[1;32m     36\u001b[0m \u001b[0;34m\u001b[0m\u001b[0m\n",
      "\u001b[0;32m~/opt/anaconda3/lib/python3.9/site-packages/torch/_tensor.py\u001b[0m in \u001b[0;36mbackward\u001b[0;34m(self, gradient, retain_graph, create_graph, inputs)\u001b[0m\n\u001b[1;32m    305\u001b[0m                 \u001b[0mcreate_graph\u001b[0m\u001b[0;34m=\u001b[0m\u001b[0mcreate_graph\u001b[0m\u001b[0;34m,\u001b[0m\u001b[0;34m\u001b[0m\u001b[0;34m\u001b[0m\u001b[0m\n\u001b[1;32m    306\u001b[0m                 inputs=inputs)\n\u001b[0;32m--> 307\u001b[0;31m         \u001b[0mtorch\u001b[0m\u001b[0;34m.\u001b[0m\u001b[0mautograd\u001b[0m\u001b[0;34m.\u001b[0m\u001b[0mbackward\u001b[0m\u001b[0;34m(\u001b[0m\u001b[0mself\u001b[0m\u001b[0;34m,\u001b[0m \u001b[0mgradient\u001b[0m\u001b[0;34m,\u001b[0m \u001b[0mretain_graph\u001b[0m\u001b[0;34m,\u001b[0m \u001b[0mcreate_graph\u001b[0m\u001b[0;34m,\u001b[0m \u001b[0minputs\u001b[0m\u001b[0;34m=\u001b[0m\u001b[0minputs\u001b[0m\u001b[0;34m)\u001b[0m\u001b[0;34m\u001b[0m\u001b[0;34m\u001b[0m\u001b[0m\n\u001b[0m\u001b[1;32m    308\u001b[0m \u001b[0;34m\u001b[0m\u001b[0m\n\u001b[1;32m    309\u001b[0m     \u001b[0;32mdef\u001b[0m \u001b[0mregister_hook\u001b[0m\u001b[0;34m(\u001b[0m\u001b[0mself\u001b[0m\u001b[0;34m,\u001b[0m \u001b[0mhook\u001b[0m\u001b[0;34m)\u001b[0m\u001b[0;34m:\u001b[0m\u001b[0;34m\u001b[0m\u001b[0;34m\u001b[0m\u001b[0m\n",
      "\u001b[0;32m~/opt/anaconda3/lib/python3.9/site-packages/torch/autograd/__init__.py\u001b[0m in \u001b[0;36mbackward\u001b[0;34m(tensors, grad_tensors, retain_graph, create_graph, grad_variables, inputs)\u001b[0m\n\u001b[1;32m    152\u001b[0m         \u001b[0mretain_graph\u001b[0m \u001b[0;34m=\u001b[0m \u001b[0mcreate_graph\u001b[0m\u001b[0;34m\u001b[0m\u001b[0;34m\u001b[0m\u001b[0m\n\u001b[1;32m    153\u001b[0m \u001b[0;34m\u001b[0m\u001b[0m\n\u001b[0;32m--> 154\u001b[0;31m     Variable._execution_engine.run_backward(\n\u001b[0m\u001b[1;32m    155\u001b[0m         \u001b[0mtensors\u001b[0m\u001b[0;34m,\u001b[0m \u001b[0mgrad_tensors_\u001b[0m\u001b[0;34m,\u001b[0m \u001b[0mretain_graph\u001b[0m\u001b[0;34m,\u001b[0m \u001b[0mcreate_graph\u001b[0m\u001b[0;34m,\u001b[0m \u001b[0minputs\u001b[0m\u001b[0;34m,\u001b[0m\u001b[0;34m\u001b[0m\u001b[0;34m\u001b[0m\u001b[0m\n\u001b[1;32m    156\u001b[0m         allow_unreachable=True, accumulate_grad=True)  # allow_unreachable flag\n",
      "\u001b[0;31mKeyboardInterrupt\u001b[0m: "
     ]
    }
   ],
   "source": [
    "for step in range(total_steps):\n",
    "    generated_features = model(generated)\n",
    "    content_features = model(content_img)\n",
    "    style_features = model(style_img)\n",
    "    \n",
    "    style_loss = content_loss = 0\n",
    "    \n",
    "    for generated_F, content_F, style_F in zip(\n",
    "        generated_features, content_features, style_features\n",
    "    ):\n",
    "        batch_size, channel, height, width = generated_F.shape # batch_size = 1\n",
    "        \n",
    "        # Content Loss\n",
    "        content_loss += torch.mean((generated_F - content_F) ** 2) # Here, we have 2 so torch.mean() is just divide / 2\n",
    "        \n",
    "        # Style Loss\n",
    "        \n",
    "        # Gram Matrix - (nc x nc)\n",
    "        G = generated_F.view(channel, height * width).mm(\n",
    "            generated_F.view(channel, height * width).t()\n",
    "        )\n",
    "        \n",
    "        S = style_F.view(channel, height * width).mm(\n",
    "            style_F.view(channel, height * width).t()\n",
    "        )\n",
    "        \n",
    "        style_loss += torch.mean((G - S)**2) # torch.mean <=> divide / 2\n",
    "    \n",
    "    # Total Loss\n",
    "    total_loss = (alpha * content_loss) + (beta * style_loss)\n",
    "\n",
    "    # Backprop\n",
    "    optimizer.zero_grad()\n",
    "    total_loss.backward()\n",
    "    optimizer.step()\n",
    "        \n",
    "    if step % 10 == 0:\n",
    "        print(f\"--------Step {step}--------\")\n",
    "        print(f\"Total Loss: {total_loss.item()}\")\n",
    "        \n",
    "        # Save Checkpoint\n",
    "        checkpoint = {\n",
    "               \"optimizer\": optimizer.state_dict(),\n",
    "        }\n",
    "        save_checkpoint(checkpoint, filename=LOAD_MODEL_FILE)\n",
    "        \n",
    "        save_image(generated, 'generated.png')\n",
    "        print(\"---------Image Saved---------\\n\")"
   ]
  },
  {
   "cell_type": "code",
   "execution_count": null,
   "id": "d1a958f9",
   "metadata": {},
   "outputs": [],
   "source": []
  }
 ],
 "metadata": {
  "kernelspec": {
   "display_name": "Python 3 (ipykernel)",
   "language": "python",
   "name": "python3"
  },
  "language_info": {
   "codemirror_mode": {
    "name": "ipython",
    "version": 3
   },
   "file_extension": ".py",
   "mimetype": "text/x-python",
   "name": "python",
   "nbconvert_exporter": "python",
   "pygments_lexer": "ipython3",
   "version": "3.9.7"
  }
 },
 "nbformat": 4,
 "nbformat_minor": 5
}
