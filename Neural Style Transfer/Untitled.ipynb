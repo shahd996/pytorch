{
 "cells": [
  {
   "cell_type": "code",
   "execution_count": 22,
   "id": "b3a99e1f",
   "metadata": {},
   "outputs": [],
   "source": [
    "import requests\n",
    "import json"
   ]
  },
  {
   "cell_type": "code",
   "execution_count": 33,
   "id": "77b2e3c6",
   "metadata": {},
   "outputs": [],
   "source": [
    "# REST API: 1fb5cacb3ab5b73e2974861538241cc2"
   ]
  },
  {
   "cell_type": "code",
   "execution_count": 34,
   "id": "a48f336c",
   "metadata": {},
   "outputs": [],
   "source": [
    "# https://kauth.kakao.com/oauth/authorize?client_id=1fb5cacb3ab5b73e2974861538241cc2&response_type=code&redirect_uri=https://localhost:3000\n",
    "\n",
    "# To get the \"code\" and put it below"
   ]
  },
  {
   "cell_type": "code",
   "execution_count": 45,
   "id": "0897696a",
   "metadata": {
    "scrolled": false
   },
   "outputs": [
    {
     "name": "stdout",
     "output_type": "stream",
     "text": [
      "{'error': 'invalid_grant', 'error_description': 'authorization code not found for code=v8gCiFsLzx33H5aRlqBbJLQgwK9rzlE_XmhdcDOVWahvgPB643QKK7kk-Dtq06h0OYAq_Qo9dJgAAAF97UIWKw', 'error_code': 'KOE320'}\n"
     ]
    }
   ],
   "source": [
    "url = \"https://kauth.kakao.com/oauth/token\"\n",
    "\n",
    "data = {\n",
    "    \"grant_type\" : \"authorization_code\",\n",
    "    \"client_id\" : \"1fb5cacb3ab5b73e2974861538241cc2\",\n",
    "    \"redirect_uri\" : \"https://localhost:3000\",\n",
    "    \"code\"         : \"v8gCiFsLzx33H5aRlqBbJLQgwK9rzlE_XmhdcDOVWahvgPB643QKK7kk-Dtq06h0OYAq_Qo9dJgAAAF97UIWKw\"\n",
    "    \n",
    "}\n",
    "response = requests.post(url, data=data)\n",
    "\n",
    "tokens = response.json()\n",
    "\n",
    "print(tokens)"
   ]
  },
  {
   "cell_type": "code",
   "execution_count": 36,
   "id": "9cac04a1",
   "metadata": {},
   "outputs": [],
   "source": [
    "# Take \"access_token\" and put it in next to Bearer"
   ]
  },
  {
   "cell_type": "code",
   "execution_count": 26,
   "id": "3118359b",
   "metadata": {},
   "outputs": [],
   "source": [
    "with open(\"kakao_token.json\", \"w\") as fp:\n",
    "    json.dump(tokens, fp)"
   ]
  },
  {
   "cell_type": "code",
   "execution_count": 46,
   "id": "0159d3f0",
   "metadata": {},
   "outputs": [
    {
     "name": "stdout",
     "output_type": "stream",
     "text": [
      "200\n",
      "메시지를 성공적으로 보냈습니다.\n"
     ]
    }
   ],
   "source": [
    "url = \"https://kapi.kakao.com/v2/api/talk/memo/default/send\"\n",
    "\n",
    "# 사용자 토큰\n",
    "headers = {\n",
    "    \"Authorization\": \"Bearer \" + \"xSoPcpIu8oVqZbSOIWl_Z17ggGbnwvTrB0qclgo9dNoAAAF97UI92w\"\n",
    "}\n",
    "\n",
    "\n",
    "data = {\n",
    "    \"template_object\" : json.dumps({ \"object_type\" : \"text\",\n",
    "                                     \"text\" : \"뭐하노~\",\n",
    "                                     \"link\" : {\n",
    "                                                 \"web_url\" : \"www.naver.com\"\n",
    "                                              }\n",
    "    })\n",
    "}\n",
    "\n",
    "response = requests.post(url, headers=headers, data=data)\n",
    "print(response.status_code)\n",
    "if response.json().get('result_code') == 0:\n",
    "    print('메시지를 성공적으로 보냈습니다.')\n",
    "else:\n",
    "    print('메시지를 성공적으로 보내지 못했습니다. 오류메시지 : ' + str(response.json()))\n",
    "  "
   ]
  },
  {
   "cell_type": "code",
   "execution_count": null,
   "id": "3259c397",
   "metadata": {},
   "outputs": [],
   "source": []
  }
 ],
 "metadata": {
  "kernelspec": {
   "display_name": "Python 3 (ipykernel)",
   "language": "python",
   "name": "python3"
  },
  "language_info": {
   "codemirror_mode": {
    "name": "ipython",
    "version": 3
   },
   "file_extension": ".py",
   "mimetype": "text/x-python",
   "name": "python",
   "nbconvert_exporter": "python",
   "pygments_lexer": "ipython3",
   "version": "3.9.7"
  }
 },
 "nbformat": 4,
 "nbformat_minor": 5
}
