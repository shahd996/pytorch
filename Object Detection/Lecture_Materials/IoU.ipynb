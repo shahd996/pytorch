{
 "cells": [
  {
   "cell_type": "markdown",
   "id": "639c15e5",
   "metadata": {},
   "source": [
    "# Intersection over Union\n",
    "### Intersection / Union\n",
    "* IoU > 0.5 \"decent\"\n",
    "* IoU > 0.7 \"pretty good\"\n",
    "* IoU > 0.9 \"Almost perfect\"\n",
    "---"
   ]
  },
  {
   "cell_type": "markdown",
   "id": "1c95d4be",
   "metadata": {},
   "source": [
    "##### Box1 = [x1, y1, x2, y2]\n",
    "##### Box2 = [x1, y1, x2, y2]"
   ]
  },
  {
   "cell_type": "markdown",
   "id": "e60e88a1",
   "metadata": {},
   "source": [
    "### Intersection (x1,y1,x2,y2)\n",
    "* **Upper Left x1**: max(box1[0],box2[0])\n",
    "* **Upper Left y1**: max(box1[1],box2[1])\n",
    "* **Bottom Right x2**: min(box1[2],box2[2])\n",
    "* **Bottom Right y2**: min(box1[3],box2[3])\n",
    "\n",
    "* **Intersection Area**: abs(x1-x2) * abs(y1-y2)"
   ]
  },
  {
   "cell_type": "markdown",
   "id": "987fb52b",
   "metadata": {},
   "source": [
    "### Union\n",
    "* **Area**: Area(Box1) + Area(Box2) - Intersection"
   ]
  },
  {
   "cell_type": "code",
   "execution_count": 13,
   "id": "fdc64b63",
   "metadata": {},
   "outputs": [],
   "source": [
    "import numpy as np\n",
    "import torch"
   ]
  },
  {
   "cell_type": "code",
   "execution_count": 1,
   "id": "26f24f73",
   "metadata": {},
   "outputs": [],
   "source": [
    "def IoU(boxes_preds, boxes_labels, box_format=\"midpoint\"):\n",
    "    # boxes_preds - N x 4, where N is # boxes\n",
    "    if box_format == 'midpoint':\n",
    "        # [x,y,w,h]\n",
    "        box1_x1 = boxes_preds[..., 0:1] - boxes_preds[..., 2:3] / 2 # N x 1\n",
    "        box1_y1 = boxes_preds[..., 1:2] - boxes_preds[..., 3:4] / 2\n",
    "        box1_x2 = boxes_preds[..., 2:3] + boxes_preds[..., 2:3] / 2\n",
    "        box1_y2 = boxes_preds[..., 3:4] + boxes_preds[..., 3:4] / 2\n",
    "        box2_x1 = boxes_labels[..., 0:1] - boxes_labels[..., 2:3] / 2\n",
    "        box2_y1 = boxes_labels[..., 1:2] - boxes_labels[..., 3:4] / 2\n",
    "        box2_x2 = boxes_labels[..., 2:3] + boxes_labels[..., 2:3] / 2\n",
    "        box2_y2 = boxes_labels[..., 3:4] + boxes_labels[..., 3:4] / 2\n",
    "        \n",
    "    if(box_format == 'corners'):\n",
    "        # [x1,y1,x2,y2]\n",
    "        box1_x1 = boxes_preds[..., 0:1] # N x 1\n",
    "        box1_y1 = boxes_preds[..., 1:2]\n",
    "        box1_x2 = boxes_preds[..., 2:3]\n",
    "        box1_y2 = boxes_preds[..., 3:4]\n",
    "        box2_x1 = boxes_labels[..., 0:1]\n",
    "        box2_y1 = boxes_labels[..., 1:2]\n",
    "        box2_x2 = boxes_labels[..., 2:3]\n",
    "        box2_y2 = boxes_labels[..., 3:4]\n",
    "        \n",
    "    \n",
    "    x1 = torch.max(box1_x1, box2_x1)\n",
    "    y1 = torch.max(box1_y1, box2_y1)\n",
    "    x2 = torch.min(box1_x2, box2_x2)\n",
    "    y2 = torch.min(box1_y2, box2_y2)\n",
    "    \n",
    "    \n",
    "    # .clamp(0) is for the case when they DO NOT intersect. clamp(0) means set to 0 if it's less than 0\n",
    "    intersection = (x2 - x1).clamp(0) * (y2 - y1).clamp(0)\n",
    "    \n",
    "    box1_area = abs((box1_x2 - box1_x1) * (box1_y2 - box1_y1))\n",
    "    box2_area = abs((box2_x2 - box2_x1) * (box2_y2 - box2_y1))\n",
    "    union = box1_area + box2_area - intersection\n",
    "    \n",
    "    print(\"intersection coordinates: [\",x1.item(),y1.item(),x2.item(),y2.item(),\"]\")\n",
    "    print(\"intersection:\",intersection.item())\n",
    "    print(\"union:\",union.item())\n",
    "    \n",
    "    return (intersection / (union + 1e-6)).item()"
   ]
  },
  {
   "cell_type": "code",
   "execution_count": 26,
   "id": "eda2f55e",
   "metadata": {},
   "outputs": [
    {
     "name": "stdout",
     "output_type": "stream",
     "text": [
      "intersection coordinates: [ 2 1 3 2 ]\n",
      "intersection: 1\n",
      "union: 12\n"
     ]
    },
    {
     "data": {
      "text/plain": [
       "0.0833333283662796"
      ]
     },
     "execution_count": 26,
     "metadata": {},
     "output_type": "execute_result"
    }
   ],
   "source": [
    "IoU(torch.tensor([[1,0,3,2]]), torch.tensor([[2,1,5,4]]),'corners')"
   ]
  },
  {
   "cell_type": "code",
   "execution_count": null,
   "id": "49bfd59d",
   "metadata": {},
   "outputs": [],
   "source": []
  }
 ],
 "metadata": {
  "kernelspec": {
   "display_name": "Python 3",
   "language": "python",
   "name": "python3"
  },
  "language_info": {
   "codemirror_mode": {
    "name": "ipython",
    "version": 3
   },
   "file_extension": ".py",
   "mimetype": "text/x-python",
   "name": "python",
   "nbconvert_exporter": "python",
   "pygments_lexer": "ipython3",
   "version": "3.8.8"
  }
 },
 "nbformat": 4,
 "nbformat_minor": 5
}
