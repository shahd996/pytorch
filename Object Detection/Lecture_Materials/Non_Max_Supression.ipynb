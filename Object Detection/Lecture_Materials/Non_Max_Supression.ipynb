{
 "cells": [
  {
   "cell_type": "code",
   "execution_count": 150,
   "id": "ff108b18",
   "metadata": {},
   "outputs": [],
   "source": [
    "import numpy\n",
    "import torch"
   ]
  },
  {
   "cell_type": "markdown",
   "id": "497cdefd",
   "metadata": {},
   "source": [
    "## Non-Max Supression\n",
    "\n",
    "#### 1) Discard all bounding boxes <code>< probability threshold</code>\n",
    "#### 2) Remove all bounding boxes with <code>IOU >= threshold</code> (0.5 or 0.6)\n",
    "(We do this for each class)    "
   ]
  },
  {
   "cell_type": "markdown",
   "id": "4dcf938b",
   "metadata": {},
   "source": [
    "### IoU"
   ]
  },
  {
   "cell_type": "code",
   "execution_count": 151,
   "id": "62460ac7",
   "metadata": {},
   "outputs": [],
   "source": [
    "def IoU(boxes_preds, boxes_labels, box_format=\"midpoint\"):\n",
    "    # boxes_preds - N x 4, where N is # boxes\n",
    "    if box_format == 'midpoint':\n",
    "        # [x,y,w,h]\n",
    "        box1_x1 = boxes_preds[..., 0:1] - boxes_preds[..., 2:3] / 2 # N x 1\n",
    "        box1_y1 = boxes_preds[..., 1:2] - boxes_preds[..., 3:4] / 2\n",
    "        box1_x2 = boxes_preds[..., 2:3] + boxes_preds[..., 2:3] / 2\n",
    "        box1_y2 = boxes_preds[..., 3:4] + boxes_preds[..., 3:4] / 2\n",
    "        box2_x1 = boxes_labels[..., 0:1] - boxes_labels[..., 2:3] / 2\n",
    "        box2_y1 = boxes_labels[..., 1:2] - boxes_labels[..., 3:4] / 2\n",
    "        box2_x2 = boxes_labels[..., 2:3] + boxes_labels[..., 2:3] / 2\n",
    "        box2_y2 = boxes_labels[..., 3:4] + boxes_labels[..., 3:4] / 2\n",
    "        \n",
    "    if(box_format == 'corners'):\n",
    "        # [x1,y1,x2,y2]\n",
    "        box1_x1 = boxes_preds[..., 0:1] # N x 1\n",
    "        box1_y1 = boxes_preds[..., 1:2]\n",
    "        box1_x2 = boxes_preds[..., 2:3]\n",
    "        box1_y2 = boxes_preds[..., 3:4]\n",
    "        box2_x1 = boxes_labels[..., 0:1]\n",
    "        box2_y1 = boxes_labels[..., 1:2]\n",
    "        box2_x2 = boxes_labels[..., 2:3]\n",
    "        box2_y2 = boxes_labels[..., 3:4]\n",
    "        \n",
    "    \n",
    "    x1 = torch.max(box1_x1, box2_x1)\n",
    "    y1 = torch.max(box1_y1, box2_y1)\n",
    "    x2 = torch.min(box1_x2, box2_x2)\n",
    "    y2 = torch.min(box1_y2, box2_y2)\n",
    "    \n",
    "    # .clamp(0) is for the case when they DO NOT intersect. clamp(0) means set to 0 if it's less than 0\n",
    "    intersection = (x2 - x1).clamp(0) * (y2 - y1).clamp(0)\n",
    "    \n",
    "    box1_area = abs((box1_x2 - box1_x1) * (box1_y2 - box1_y1))\n",
    "    box2_area = abs((box2_x2 - box2_x1) * (box2_y2 - box2_y1))\n",
    "    union = box1_area + box2_area - intersection\n",
    "    \n",
    "    print(\"\\n--------------IOU-------------\")\n",
    "    print(\"intersection coordinates: [\",x1.item(),y1.item(),x2.item(),y2.item(),\"]\")\n",
    "    print(\"intersection:\",intersection.item())\n",
    "    print(\"union:\",union.item())\n",
    "    print(\"iou:\",(intersection / (union + 1e-6)).item())\n",
    "    print(\"-\"*30,'\\n')\n",
    "    \n",
    "    \n",
    "    return (intersection / (union + 1e-6)).item()"
   ]
  },
  {
   "cell_type": "markdown",
   "id": "a52bd3f0",
   "metadata": {},
   "source": [
    "### Non-Max Supression"
   ]
  },
  {
   "cell_type": "code",
   "execution_count": 152,
   "id": "703ea646",
   "metadata": {},
   "outputs": [],
   "source": [
    "def nms(bboxes, iou_threshold, prob_threshold, box_format=\"corners\"):\n",
    "    print(\"IoU threshold:\",iou_threshold)\n",
    "    print(\"prob threshold:\",prob_threshold,'\\n')\n",
    "    \n",
    "    # bboxes = [[class, Pc, x1, y1, x2, y2],[...],....]\n",
    "    assert type(bboxes) == list\n",
    "    \n",
    "    # Bounding Boxes after Non-Max Supression to be returned\n",
    "    bboxes_after_nms = []\n",
    "    \n",
    "    # 1) Discard all bounding boxes with Pc < prob_threshold (leave only >= prob_threshold)\n",
    "    bboxes = [box for box in bboxes if box[1] >= prob_threshold]\n",
    "    \n",
    "    # Sort bboxes for our conveinience\n",
    "    bboxes = sorted(bboxes, key=lambda x: x[1], reverse=True) # sort bboxes with highest probability at the beginning\n",
    "    print(\"Bounding Boxes after dropping <prob_threshold:\")\n",
    "    \n",
    "    \n",
    "    for b in bboxes:\n",
    "        print(b)\n",
    "    print('\\n')\n",
    "    cnt = 0\n",
    "    \n",
    "    while bboxes:\n",
    "        # Select the bounding box with the highest probability\n",
    "        highest_prob_box = bboxes.pop(0)\n",
    "        print(f'Highest Prob Box {cnt}: {highest_prob_box}')\n",
    "        \n",
    "        # Filter - Leave only 1) bbox with difference class & 2) IOU < iou_threshold\n",
    "        bboxes = [ \n",
    "            box for box in bboxes\n",
    "            if \n",
    "            box[0] != highest_prob_box[0] # We don't want to remove different classes\n",
    "            or # Keep only boxes with iou < threshold\n",
    "            IoU(torch.tensor(highest_prob_box[2:]), torch.tensor(box[2:]), box_format=box_format) < iou_threshold\n",
    "        ]\n",
    "        \n",
    "        bboxes_after_nms.append(highest_prob_box)\n",
    "        cnt += 1\n",
    "    \n",
    "    return bboxes_after_nms "
   ]
  },
  {
   "cell_type": "markdown",
   "id": "28388a8c",
   "metadata": {},
   "source": [
    "### Test"
   ]
  },
  {
   "cell_type": "code",
   "execution_count": 156,
   "id": "352f319a",
   "metadata": {
    "scrolled": false
   },
   "outputs": [
    {
     "name": "stdout",
     "output_type": "stream",
     "text": [
      "IoU threshold: 0.49\n",
      "prob threshold: 0.4 \n",
      "\n",
      "Bounding Boxes after dropping <prob_threshold:\n",
      "[1, 0.9, 0, 0, 2, 3]\n",
      "[2, 0.8, 1, 0, 2, 3]\n",
      "[1, 0.7, 0, 1, 2, 3]\n",
      "[1, 0.4, 1, 0, 2, 3]\n",
      "\n",
      "\n",
      "Highest Prob Box 0: [1, 0.9, 0, 0, 2, 3]\n",
      "\n",
      "--------------IOU-------------\n",
      "intersection coordinates: [ 0 1 2 3 ]\n",
      "intersection: 4\n",
      "union: 6\n",
      "iou: 0.666666567325592\n",
      "------------------------------ \n",
      "\n",
      "\n",
      "--------------IOU-------------\n",
      "intersection coordinates: [ 1 0 2 3 ]\n",
      "intersection: 3\n",
      "union: 6\n",
      "iou: 0.49999991059303284\n",
      "------------------------------ \n",
      "\n",
      "Highest Prob Box 1: [2, 0.8, 1, 0, 2, 3]\n",
      "\n",
      "Bounding Boxes from Non-Max Supression [[1, 0.9, 0, 0, 2, 3], [2, 0.8, 1, 0, 2, 3]]\n"
     ]
    }
   ],
   "source": [
    "bboxes = [[1,0.9,0,0,2,3],[1,0.7,0,1,2,3],[2,0.8,1,0,2,3],[1,0.4,1,0,2,3]]\n",
    "print(\"\\nBounding Boxes from Non-Max Supression\",nms(bboxes,0.49,0.4))"
   ]
  },
  {
   "cell_type": "code",
   "execution_count": null,
   "id": "ddb6a946",
   "metadata": {},
   "outputs": [],
   "source": []
  }
 ],
 "metadata": {
  "kernelspec": {
   "display_name": "Python 3",
   "language": "python",
   "name": "python3"
  },
  "language_info": {
   "codemirror_mode": {
    "name": "ipython",
    "version": 3
   },
   "file_extension": ".py",
   "mimetype": "text/x-python",
   "name": "python",
   "nbconvert_exporter": "python",
   "pygments_lexer": "ipython3",
   "version": "3.8.8"
  }
 },
 "nbformat": 4,
 "nbformat_minor": 5
}
