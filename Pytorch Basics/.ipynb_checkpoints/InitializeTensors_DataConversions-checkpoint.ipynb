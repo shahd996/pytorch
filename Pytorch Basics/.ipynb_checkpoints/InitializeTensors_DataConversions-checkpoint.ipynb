{
 "cells": [
  {
   "cell_type": "code",
   "execution_count": 94,
   "id": "5d675b7d",
   "metadata": {},
   "outputs": [],
   "source": [
    "import torch\n",
    "import numpy as np"
   ]
  },
  {
   "cell_type": "code",
   "execution_count": 3,
   "id": "007d28a5",
   "metadata": {},
   "outputs": [],
   "source": [
    "device = 'cuda' if torch.cuda.is_available() else 'cpu'"
   ]
  },
  {
   "cell_type": "markdown",
   "id": "b0765345",
   "metadata": {},
   "source": [
    "### Initializing Tensor"
   ]
  },
  {
   "cell_type": "markdown",
   "id": "32c33f93",
   "metadata": {},
   "source": [
    "<code>torch.tensor(...)</code>"
   ]
  },
  {
   "cell_type": "code",
   "execution_count": 5,
   "id": "8bddb86b",
   "metadata": {},
   "outputs": [],
   "source": [
    "my_tensor = torch.tensor([[1,2,3],[4,5,6]], dtype=torch.float32, device=device, requires_grad=True)"
   ]
  },
  {
   "cell_type": "code",
   "execution_count": 6,
   "id": "6edfd90e",
   "metadata": {
    "scrolled": true
   },
   "outputs": [
    {
     "name": "stdout",
     "output_type": "stream",
     "text": [
      "tensor([[1., 2., 3.],\n",
      "        [4., 5., 6.]], requires_grad=True)\n",
      "torch.float32\n",
      "cpu\n",
      "torch.Size([2, 3])\n",
      "True\n"
     ]
    }
   ],
   "source": [
    "print(my_tensor)\n",
    "print(my_tensor.dtype)\n",
    "print(my_tensor.device)\n",
    "print(my_tensor.shape)\n",
    "print(my_tensor.requires_grad)"
   ]
  },
  {
   "cell_type": "markdown",
   "id": "f183f02d",
   "metadata": {},
   "source": [
    "### Other Initialization Methods"
   ]
  },
  {
   "cell_type": "markdown",
   "id": "8ccbbda6",
   "metadata": {},
   "source": [
    "<code>torch.empty(size = (x,y))</code>"
   ]
  },
  {
   "cell_type": "code",
   "execution_count": 16,
   "id": "14aae14a",
   "metadata": {},
   "outputs": [],
   "source": [
    "X = torch.empty(size = (3,3)) # alloted in memory - uninitialized data"
   ]
  },
  {
   "cell_type": "markdown",
   "id": "cb82c674",
   "metadata": {},
   "source": [
    "<code>torch.zeros((x,y))</code>\n",
    "<code>torch.ones((x,y))</code>"
   ]
  },
  {
   "cell_type": "code",
   "execution_count": 23,
   "id": "498eb566",
   "metadata": {},
   "outputs": [
    {
     "name": "stdout",
     "output_type": "stream",
     "text": [
      "tensor([[0., 0., 0.],\n",
      "        [0., 0., 0.],\n",
      "        [0., 0., 0.]])\n",
      "tensor([[0., 0., 0.],\n",
      "        [0., 0., 0.],\n",
      "        [0., 0., 0.]])\n"
     ]
    }
   ],
   "source": [
    "zeros = torch.zeros((3,3))\n",
    "ones = torch.zeros((3,3))\n",
    "print(zeros)\n",
    "print(ones)"
   ]
  },
  {
   "cell_type": "markdown",
   "id": "a5652a6e",
   "metadata": {},
   "source": [
    "<code>torch.rand((x,y))</code>\n",
    "<code>torch.eye(x,y)</code>"
   ]
  },
  {
   "cell_type": "code",
   "execution_count": 26,
   "id": "acb6b976",
   "metadata": {
    "scrolled": true
   },
   "outputs": [
    {
     "name": "stdout",
     "output_type": "stream",
     "text": [
      "tensor([[0.2715, 0.9991, 0.2091],\n",
      "        [0.8170, 0.0342, 0.9587],\n",
      "        [0.6393, 0.6378, 0.0478]])\n",
      "tensor([[1., 0., 0., 0., 0.],\n",
      "        [0., 1., 0., 0., 0.],\n",
      "        [0., 0., 1., 0., 0.],\n",
      "        [0., 0., 0., 1., 0.],\n",
      "        [0., 0., 0., 0., 1.]])\n"
     ]
    }
   ],
   "source": [
    "uni = torch.rand((3,3)) # Value from uniform distribution [0,1]\n",
    "i = torch.eye(5,5)\n",
    "print(uni)\n",
    "print(i)"
   ]
  },
  {
   "cell_type": "markdown",
   "id": "36a30a73",
   "metadata": {},
   "source": [
    "<code>torch.arange(start,end,step)</code>"
   ]
  },
  {
   "cell_type": "code",
   "execution_count": 31,
   "id": "6cab3b68",
   "metadata": {
    "scrolled": true
   },
   "outputs": [
    {
     "name": "stdout",
     "output_type": "stream",
     "text": [
      "tensor([0, 1, 2, 3, 4])\n"
     ]
    }
   ],
   "source": [
    "X = torch.arange(start=0, end=5, step=1)\n",
    "# X = torch.arange(0,5,1)\n",
    "print(X)"
   ]
  },
  {
   "cell_type": "markdown",
   "id": "61c1c567",
   "metadata": {},
   "source": [
    "<code>torch.linspace(start,end,totalsteps)</code>"
   ]
  },
  {
   "cell_type": "code",
   "execution_count": 37,
   "id": "828bc5f7",
   "metadata": {
    "scrolled": true
   },
   "outputs": [
    {
     "name": "stdout",
     "output_type": "stream",
     "text": [
      "tensor([0.1000, 0.2000, 0.3000, 0.4000, 0.5000, 0.6000, 0.7000, 0.8000, 0.9000,\n",
      "        1.0000])\n"
     ]
    }
   ],
   "source": [
    "X = torch.linspace(start=0.1, end=1, steps=10)\n",
    "# X = torch.linspace(0.1,1,10)\n",
    "print(X)"
   ]
  },
  {
   "cell_type": "markdown",
   "id": "47f96a6c",
   "metadata": {},
   "source": [
    "<code>.normal_(mean=u, std=s)</code>"
   ]
  },
  {
   "cell_type": "code",
   "execution_count": 60,
   "id": "590b5571",
   "metadata": {
    "scrolled": true
   },
   "outputs": [
    {
     "name": "stdout",
     "output_type": "stream",
     "text": [
      "tensor([[-1.2932, -1.0376, -1.5314,  2.3673, -0.3208]])\n",
      "tensor(-0.3631)\n",
      "tensor(1.5923)\n"
     ]
    }
   ],
   "source": [
    "X = torch.empty(size=(1,5)).normal_(mean = 0, std = 1)\n",
    "print(X)\n",
    "print(torch.mean(X))\n",
    "print(torch.std(X))"
   ]
  },
  {
   "cell_type": "markdown",
   "id": "b6e92964",
   "metadata": {},
   "source": [
    "<code>.uniform_(a,b)</code>"
   ]
  },
  {
   "cell_type": "code",
   "execution_count": 73,
   "id": "3a0c8481",
   "metadata": {
    "scrolled": true
   },
   "outputs": [
    {
     "name": "stdout",
     "output_type": "stream",
     "text": [
      "tensor([[1.6794, 9.5464, 2.3796, 0.1757, 2.0852]])\n",
      "tensor(3.1733)\n",
      "tensor(3.6622)\n"
     ]
    }
   ],
   "source": [
    "X = torch.empty(size=(1,5)).uniform_(0, 10)\n",
    "print(X)\n",
    "print(torch.mean(X))\n",
    "print(torch.std(X))"
   ]
  },
  {
   "cell_type": "markdown",
   "id": "8e374e60",
   "metadata": {},
   "source": [
    "<code>torch.diag()</code>"
   ]
  },
  {
   "cell_type": "code",
   "execution_count": 80,
   "id": "03f37bd9",
   "metadata": {},
   "outputs": [
    {
     "name": "stdout",
     "output_type": "stream",
     "text": [
      "tensor([[1., 0., 0.],\n",
      "        [0., 1., 0.],\n",
      "        [0., 0., 1.]])\n",
      "tensor([1, 5, 9])\n"
     ]
    }
   ],
   "source": [
    "# torch.diag(input, diagonal=0, *, out=None) → Tensor\n",
    "# If input is a vector (1-D tensor), then returns a 2-D square tensor with the elements of input as the diagonal.\n",
    "# If input is a matrix (2-D tensor), then returns a 1-D tensor with the diagonal elements of input .\n",
    "\n",
    "# 1D tensor\n",
    "X = torch.ones(3) # [1,1,1]\n",
    "print(torch.diag(X))\n",
    "\n",
    "\n",
    "# 2D tensor\n",
    "X = torch.tensor([[1,2,3],[4,5,6],[7,8,9]])\n",
    "print(torch.diag(X))"
   ]
  },
  {
   "cell_type": "markdown",
   "id": "1a72e690",
   "metadata": {},
   "source": [
    "### Initialize and convert tensors to other types (int, float, double)"
   ]
  },
  {
   "cell_type": "code",
   "execution_count": 91,
   "id": "3ba9b1da",
   "metadata": {},
   "outputs": [
    {
     "name": "stdout",
     "output_type": "stream",
     "text": [
      "tensor:  tensor([0, 1, 2, 3])\n",
      "-------------------------------\n",
      "tensor.bool(): tensor([False,  True,  True,  True])\n",
      "tensor.short(): tensor([0, 1, 2, 3], dtype=torch.int16)\n",
      "tensor.long(): tensor([0, 1, 2, 3])\n",
      "tensor.half(): tensor([0., 1., 2., 3.], dtype=torch.float16)\n",
      "tensor.float(): tensor([0., 1., 2., 3.])\n",
      "tensor.double(): tensor([0., 1., 2., 3.], dtype=torch.float64)\n"
     ]
    }
   ],
   "source": [
    "tensor = torch.arange(4) # dtype = int64\n",
    "print(\"tensor: \",tensor)\n",
    "print(\"-------------------------------\")\n",
    "print(\"tensor.bool():\",tensor.bool())\n",
    "print(\"tensor.short():\",tensor.short())\n",
    "print(\"tensor.long():\",tensor.long())\n",
    "print(\"tensor.half():\",tensor.half())\n",
    "print(\"tensor.float():\",tensor.float())\n",
    "print(\"tensor.double():\",tensor.double())"
   ]
  },
  {
   "cell_type": "markdown",
   "id": "846d60d1",
   "metadata": {},
   "source": [
    "### Array to Tensor conversion and vice-versa"
   ]
  },
  {
   "cell_type": "markdown",
   "id": "154a10b5",
   "metadata": {},
   "source": [
    "<code>torch.from_numpy(np_array)</code>\n",
    "<code>tensor.numpy()</code>"
   ]
  },
  {
   "cell_type": "code",
   "execution_count": 95,
   "id": "f2ed3cad",
   "metadata": {},
   "outputs": [],
   "source": [
    "np_array = np.zeros((5,5))\n",
    "\n",
    "# np -> tensor\n",
    "tensor = torch.from_numpy(np_array)\n",
    "\n",
    "# tensor -> np\n",
    "np_array_back = tensor.numpy()"
   ]
  }
 ],
 "metadata": {
  "kernelspec": {
   "display_name": "Python 3",
   "language": "python",
   "name": "python3"
  },
  "language_info": {
   "codemirror_mode": {
    "name": "ipython",
    "version": 3
   },
   "file_extension": ".py",
   "mimetype": "text/x-python",
   "name": "python",
   "nbconvert_exporter": "python",
   "pygments_lexer": "ipython3",
   "version": "3.8.8"
  }
 },
 "nbformat": 4,
 "nbformat_minor": 5
}
