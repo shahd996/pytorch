{
 "cells": [
  {
   "cell_type": "code",
   "execution_count": 1,
   "id": "2a50a654",
   "metadata": {},
   "outputs": [],
   "source": [
    "import torch"
   ]
  },
  {
   "cell_type": "code",
   "execution_count": 7,
   "id": "eadcb013",
   "metadata": {
    "scrolled": true
   },
   "outputs": [
    {
     "name": "stdout",
     "output_type": "stream",
     "text": [
      "tensor([[0, 1, 2],\n",
      "        [3, 4, 5],\n",
      "        [6, 7, 8]])\n",
      "tensor([[0, 1, 2],\n",
      "        [3, 4, 5],\n",
      "        [6, 7, 8]])\n"
     ]
    }
   ],
   "source": [
    "x = torch.arange(9) # (9,)\n",
    "\n",
    "m1 = x.view(3,3) # contiguous memory blocks\n",
    "m2 = x.reshape(3,3)\n",
    "\n",
    "print(m1)\n",
    "print(m2)"
   ]
  },
  {
   "cell_type": "markdown",
   "id": "72040682",
   "metadata": {},
   "source": [
    "### transpose\n",
    "<code>x.t()</code>"
   ]
  },
  {
   "cell_type": "code",
   "execution_count": 10,
   "id": "257d0c11",
   "metadata": {
    "scrolled": true
   },
   "outputs": [
    {
     "name": "stdout",
     "output_type": "stream",
     "text": [
      "tensor([[0, 1, 2],\n",
      "        [3, 4, 5],\n",
      "        [6, 7, 8]])\n",
      "tensor([[0, 3, 6],\n",
      "        [1, 4, 7],\n",
      "        [2, 5, 8]])\n"
     ]
    }
   ],
   "source": [
    "m = torch.arange(9).reshape(3,3)\n",
    "print(m)\n",
    "\n",
    "print(m.t())"
   ]
  },
  {
   "cell_type": "markdown",
   "id": "6f24a572",
   "metadata": {},
   "source": [
    "### concatenate\n",
    "<code>torch.cat((x1,x2), dim=?)</code>"
   ]
  },
  {
   "cell_type": "code",
   "execution_count": 18,
   "id": "9cd6496d",
   "metadata": {},
   "outputs": [
    {
     "name": "stdout",
     "output_type": "stream",
     "text": [
      "tensor([[0.3651, 0.6042, 0.3732, 0.9928, 0.1846],\n",
      "        [0.2577, 0.4603, 0.0600, 0.2057, 0.2658]])\n",
      "tensor([[0.9991, 0.1942, 0.7372, 0.4284, 0.7426],\n",
      "        [0.6220, 0.4031, 0.6327, 0.1817, 0.6182]])\n",
      "------------------------------------------------------------\n",
      "tensor([[0.3651, 0.6042, 0.3732, 0.9928, 0.1846],\n",
      "        [0.2577, 0.4603, 0.0600, 0.2057, 0.2658],\n",
      "        [0.9991, 0.1942, 0.7372, 0.4284, 0.7426],\n",
      "        [0.6220, 0.4031, 0.6327, 0.1817, 0.6182]])\n",
      "tensor([[0.3651, 0.6042, 0.3732, 0.9928, 0.1846, 0.9991, 0.1942, 0.7372, 0.4284,\n",
      "         0.7426],\n",
      "        [0.2577, 0.4603, 0.0600, 0.2057, 0.2658, 0.6220, 0.4031, 0.6327, 0.1817,\n",
      "         0.6182]])\n"
     ]
    }
   ],
   "source": [
    "x1 = torch.rand((2,5))\n",
    "x2 = torch.rand((2,5))\n",
    "\n",
    "print(x1)\n",
    "print(x2)\n",
    "print('-'*60)\n",
    "\n",
    "z1 = torch.cat((x1,x2), dim=0)\n",
    "print(z1)\n",
    "\n",
    "z2 = torch.cat((x1,x2), dim=1)\n",
    "print(z2)"
   ]
  },
  {
   "cell_type": "markdown",
   "id": "5d0c6a81",
   "metadata": {},
   "source": [
    "### unroll"
   ]
  },
  {
   "cell_type": "code",
   "execution_count": 27,
   "id": "586f66dd",
   "metadata": {},
   "outputs": [
    {
     "name": "stdout",
     "output_type": "stream",
     "text": [
      "x shape: torch.Size([2, 5])\n",
      "unrolled: torch.Size([10])\n",
      "------------------------------------------------------------\n",
      "x shape:  torch.Size([64, 2, 5])\n",
      "unrolled axis 1,2: torch.Size([64, 10])\n"
     ]
    }
   ],
   "source": [
    "x = torch.rand((2,5))\n",
    "\n",
    "z = x.reshape(-1)\n",
    "print(\"x shape:\",x.shape)\n",
    "print(\"unrolled:\",z.shape)\n",
    "\n",
    "print(\"-\"*60)\n",
    "\n",
    "batch = 64\n",
    "x = torch.rand((batch, 2, 5))\n",
    "z = x.reshape(batch,-1)\n",
    "print(\"x shape: \",x.shape)\n",
    "print(\"unrolled axis 1,2:\",z.shape)"
   ]
  },
  {
   "cell_type": "markdown",
   "id": "95fb78a2",
   "metadata": {},
   "source": [
    "### switch axis"
   ]
  },
  {
   "cell_type": "code",
   "execution_count": 29,
   "id": "fcc45f4e",
   "metadata": {},
   "outputs": [
    {
     "name": "stdout",
     "output_type": "stream",
     "text": [
      "torch.Size([64, 2, 5])\n",
      "torch.Size([64, 5, 2])\n"
     ]
    }
   ],
   "source": [
    "batch = 64\n",
    "x = torch.rand((batch, 2, 5))\n",
    "\n",
    "z = x.permute(0,2,1) # 0->0, 1->2, 2->1 axis permutation\n",
    "print(x.shape)\n",
    "print(z.shape)"
   ]
  },
  {
   "cell_type": "code",
   "execution_count": 36,
   "id": "5535a697",
   "metadata": {},
   "outputs": [
    {
     "name": "stdout",
     "output_type": "stream",
     "text": [
      "x shape: torch.Size([10])\n",
      "x.unsqueeze(0): torch.Size([1, 10])\n",
      "x.unsqueeze(1): torch.Size([10, 1])\n"
     ]
    }
   ],
   "source": [
    "x = torch.arange(10)\n",
    "print(\"x shape:\",x.shape)\n",
    "print(\"x.unsqueeze(0):\",x.unsqueeze(0).shape)\n",
    "print(\"x.unsqueeze(1):\",x.unsqueeze(1).shape)"
   ]
  },
  {
   "cell_type": "code",
   "execution_count": 45,
   "id": "41c8a9c9",
   "metadata": {},
   "outputs": [
    {
     "name": "stdout",
     "output_type": "stream",
     "text": [
      "torch.Size([1, 1, 10])\n"
     ]
    }
   ],
   "source": [
    "x = torch.arange(10).unsqueeze(0).unsqueeze(1)\n",
    "print(x.shape)"
   ]
  },
  {
   "cell_type": "code",
   "execution_count": 48,
   "id": "683a3bab",
   "metadata": {},
   "outputs": [
    {
     "name": "stdout",
     "output_type": "stream",
     "text": [
      "torch.Size([2, 2])\n"
     ]
    },
    {
     "data": {
      "text/plain": [
       "torch.Size([2, 1, 2])"
      ]
     },
     "execution_count": 48,
     "metadata": {},
     "output_type": "execute_result"
    }
   ],
   "source": [
    "x = torch.rand(2,2)\n",
    "print(x.shape)\n",
    "\n",
    "x.unsqueeze(1).shape"
   ]
  },
  {
   "cell_type": "code",
   "execution_count": 61,
   "id": "a8679528",
   "metadata": {},
   "outputs": [
    {
     "name": "stdout",
     "output_type": "stream",
     "text": [
      "torch.Size([1, 1, 10])\n",
      "torch.Size([1, 10])\n"
     ]
    }
   ],
   "source": [
    "x = torch.arange(10).unsqueeze(0).unsqueeze(1)\n",
    "print(x.shape)\n",
    "z = x.squeeze(0)\n",
    "print(z.shape)"
   ]
  },
  {
   "cell_type": "code",
   "execution_count": null,
   "id": "1b2194e8",
   "metadata": {},
   "outputs": [],
   "source": []
  }
 ],
 "metadata": {
  "kernelspec": {
   "display_name": "Python 3",
   "language": "python",
   "name": "python3"
  },
  "language_info": {
   "codemirror_mode": {
    "name": "ipython",
    "version": 3
   },
   "file_extension": ".py",
   "mimetype": "text/x-python",
   "name": "python",
   "nbconvert_exporter": "python",
   "pygments_lexer": "ipython3",
   "version": "3.8.8"
  }
 },
 "nbformat": 4,
 "nbformat_minor": 5
}
