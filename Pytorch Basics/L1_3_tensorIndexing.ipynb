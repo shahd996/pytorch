{
 "cells": [
  {
   "cell_type": "code",
   "execution_count": 41,
   "id": "20f88535",
   "metadata": {},
   "outputs": [],
   "source": [
    "import torch"
   ]
  },
  {
   "cell_type": "code",
   "execution_count": 42,
   "id": "35a813d7",
   "metadata": {
    "scrolled": true
   },
   "outputs": [],
   "source": [
    "batch_size = 10\n",
    "features = 25\n",
    "x = torch.rand((batch_size, features)) # 10 x 25"
   ]
  },
  {
   "cell_type": "markdown",
   "id": "cd0dcdaa",
   "metadata": {},
   "source": [
    "### Basic Indexing\n",
    "**<code>x[i:j, k:p]</code>**"
   ]
  },
  {
   "cell_type": "code",
   "execution_count": 43,
   "id": "fe3e60ec",
   "metadata": {},
   "outputs": [
    {
     "name": "stdout",
     "output_type": "stream",
     "text": [
      "torch.Size([25])\n",
      "torch.Size([10])\n",
      "torch.Size([10])\n"
     ]
    }
   ],
   "source": [
    "print(x[0,:].shape) # x[0]\n",
    "print(x[:,0].shape)\n",
    "print(x[2,:10].shape) # 3nd batch / 0~9 features"
   ]
  },
  {
   "cell_type": "markdown",
   "id": "2c318acf",
   "metadata": {},
   "source": [
    "### Fancy Indexing"
   ]
  },
  {
   "cell_type": "markdown",
   "id": "d38584ca",
   "metadata": {},
   "source": [
    "**<code>x[indices]</code>**"
   ]
  },
  {
   "cell_type": "code",
   "execution_count": 44,
   "id": "7742cd40",
   "metadata": {
    "scrolled": true
   },
   "outputs": [
    {
     "name": "stdout",
     "output_type": "stream",
     "text": [
      "tensor([0, 1, 2, 3, 4, 5, 6, 7, 8, 9])\n",
      "tensor([2, 5, 8])\n"
     ]
    }
   ],
   "source": [
    "x = torch.arange(10)\n",
    "indices = [2,5,8]\n",
    "print(x)\n",
    "print(x[indices])"
   ]
  },
  {
   "cell_type": "markdown",
   "id": "451563ec",
   "metadata": {},
   "source": [
    "**<code>x[row_list,col_list]</code>**"
   ]
  },
  {
   "cell_type": "code",
   "execution_count": 45,
   "id": "7939fd44",
   "metadata": {},
   "outputs": [
    {
     "name": "stdout",
     "output_type": "stream",
     "text": [
      "tensor([[0.6947, 0.2745, 0.9988, 0.4585, 0.5665],\n",
      "        [0.2874, 0.7599, 0.4569, 0.6647, 0.0226],\n",
      "        [0.3382, 0.7435, 0.6131, 0.1507, 0.2063]])\n",
      "tensor([0.0226, 0.6947])\n",
      "tensor(0.0226) tensor(0.6947)\n"
     ]
    }
   ],
   "source": [
    "x = torch.rand((3,5))\n",
    "print(x)\n",
    "\n",
    "rows = torch.tensor([1,0])\n",
    "cols = torch.tensor([4,0])\n",
    "\n",
    "print(x[rows,cols]) # (1,4), (0,0) - matching\n",
    "print(x[1,4], x[0,0])"
   ]
  },
  {
   "cell_type": "markdown",
   "id": "ff1a230f",
   "metadata": {},
   "source": [
    "### More Advanced Indexing"
   ]
  },
  {
   "cell_type": "markdown",
   "id": "1e3cb026",
   "metadata": {},
   "source": [
    "**<code>x[conditions]</code>**"
   ]
  },
  {
   "cell_type": "code",
   "execution_count": 46,
   "id": "0193f309",
   "metadata": {
    "scrolled": true
   },
   "outputs": [
    {
     "name": "stdout",
     "output_type": "stream",
     "text": [
      "tensor([0, 1, 2, 3, 4, 5, 6, 7, 8, 9])\n",
      "tensor([0, 1, 9])\n",
      "tensor([], dtype=torch.int64)\n",
      "tensor([0, 2, 4, 6, 8])\n"
     ]
    }
   ],
   "source": [
    "x = torch.arange(10)\n",
    "print(x)\n",
    "\n",
    "# conditioning\n",
    "print(x[(x < 2) | (x > 8)])\n",
    "print(x[(x < 2) & (x > 8)])\n",
    "print(x[x.remainder(2) == 0]) # x[x%2==0]\n"
   ]
  },
  {
   "cell_type": "markdown",
   "id": "af54b0a5",
   "metadata": {},
   "source": [
    "<code>**torch.where**(**cond1**, satisfied->**f(x)**, unsatisfied->**g(x)**)</code>"
   ]
  },
  {
   "cell_type": "code",
   "execution_count": 47,
   "id": "2d8c1412",
   "metadata": {},
   "outputs": [
    {
     "name": "stdout",
     "output_type": "stream",
     "text": [
      "tensor([ 0,  2,  4,  6,  8, 10,  6,  7,  8,  9])\n"
     ]
    }
   ],
   "source": [
    "print(torch.where(x>5, x, x*2)) # matching -> if x>5, stay x, if not, x*2"
   ]
  },
  {
   "cell_type": "markdown",
   "id": "06ec27ea",
   "metadata": {},
   "source": [
    "**<code>x.unique()</code>**"
   ]
  },
  {
   "cell_type": "code",
   "execution_count": 48,
   "id": "a0bfbcaf",
   "metadata": {},
   "outputs": [
    {
     "name": "stdout",
     "output_type": "stream",
     "text": [
      "tensor([0, 1, 2, 3, 4])\n"
     ]
    }
   ],
   "source": [
    "print(torch.tensor([0,0,1,2,2,3,4]).unique())"
   ]
  },
  {
   "cell_type": "markdown",
   "id": "49e915cf",
   "metadata": {},
   "source": [
    "**<code>x.ndimension()</code>**"
   ]
  },
  {
   "cell_type": "code",
   "execution_count": 49,
   "id": "0f7a0885",
   "metadata": {},
   "outputs": [
    {
     "name": "stdout",
     "output_type": "stream",
     "text": [
      "3\n"
     ]
    }
   ],
   "source": [
    "z = torch.rand(5,5,5)\n",
    "print(z.ndimension())"
   ]
  },
  {
   "cell_type": "markdown",
   "id": "75b8ad86",
   "metadata": {},
   "source": [
    "**<code>x.numel()</code>**"
   ]
  },
  {
   "cell_type": "code",
   "execution_count": 50,
   "id": "41877cf5",
   "metadata": {},
   "outputs": [
    {
     "name": "stdout",
     "output_type": "stream",
     "text": [
      "10\n"
     ]
    }
   ],
   "source": [
    "print(x.numel()) # num. of elements"
   ]
  }
 ],
 "metadata": {
  "kernelspec": {
   "display_name": "Python 3",
   "language": "python",
   "name": "python3"
  },
  "language_info": {
   "codemirror_mode": {
    "name": "ipython",
    "version": 3
   },
   "file_extension": ".py",
   "mimetype": "text/x-python",
   "name": "python",
   "nbconvert_exporter": "python",
   "pygments_lexer": "ipython3",
   "version": "3.8.8"
  }
 },
 "nbformat": 4,
 "nbformat_minor": 5
}
