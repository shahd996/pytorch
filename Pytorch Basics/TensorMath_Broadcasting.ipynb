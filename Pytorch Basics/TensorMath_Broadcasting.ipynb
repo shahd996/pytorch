{
 "cells": [
  {
   "cell_type": "code",
   "execution_count": 2,
   "id": "b76027cd",
   "metadata": {},
   "outputs": [],
   "source": [
    "import torch"
   ]
  },
  {
   "cell_type": "code",
   "execution_count": 8,
   "id": "ae25e630",
   "metadata": {},
   "outputs": [
    {
     "name": "stdout",
     "output_type": "stream",
     "text": [
      "tensor([1, 2, 3])\n",
      "tensor([9, 8, 7])\n"
     ]
    }
   ],
   "source": [
    "x = torch.tensor([1,2,3])\n",
    "y = torch.tensor([9,8,7])\n",
    "print(x)\n",
    "print(y)"
   ]
  },
  {
   "cell_type": "markdown",
   "id": "72e9b0bb",
   "metadata": {},
   "source": [
    "### Addition"
   ]
  },
  {
   "cell_type": "markdown",
   "id": "fc690dec",
   "metadata": {},
   "source": [
    "<code>torch.add(x,y,out=?)</code>"
   ]
  },
  {
   "cell_type": "code",
   "execution_count": 9,
   "id": "a12b0c19",
   "metadata": {},
   "outputs": [
    {
     "name": "stdout",
     "output_type": "stream",
     "text": [
      "tensor([10., 10., 10.])\n"
     ]
    }
   ],
   "source": [
    "z1 = torch.empty(3)\n",
    "torch.add(x,y,out=z1)\n",
    "print(z1)"
   ]
  },
  {
   "cell_type": "markdown",
   "id": "ebca2f58",
   "metadata": {},
   "source": [
    "<code>z = torch.add(x,y)</code>"
   ]
  },
  {
   "cell_type": "code",
   "execution_count": 10,
   "id": "05de41f2",
   "metadata": {},
   "outputs": [
    {
     "name": "stdout",
     "output_type": "stream",
     "text": [
      "tensor([10, 10, 10])\n"
     ]
    }
   ],
   "source": [
    "z2 = torch.add(x,y)\n",
    "print(z2)"
   ]
  },
  {
   "cell_type": "markdown",
   "id": "8188a4a7",
   "metadata": {},
   "source": [
    "<code>z = x + y</code>"
   ]
  },
  {
   "cell_type": "code",
   "execution_count": 12,
   "id": "4a19c8a5",
   "metadata": {},
   "outputs": [
    {
     "name": "stdout",
     "output_type": "stream",
     "text": [
      "tensor([10, 10, 10])\n"
     ]
    }
   ],
   "source": [
    "z = x + y\n",
    "print(z)"
   ]
  },
  {
   "cell_type": "markdown",
   "id": "e12338f9",
   "metadata": {},
   "source": [
    "### Division"
   ]
  },
  {
   "cell_type": "markdown",
   "id": "dafef602",
   "metadata": {},
   "source": [
    "<code>torch.true_divide(x,y)</code>"
   ]
  },
  {
   "cell_type": "code",
   "execution_count": 13,
   "id": "ef1d0081",
   "metadata": {},
   "outputs": [
    {
     "name": "stdout",
     "output_type": "stream",
     "text": [
      "tensor([0.1111, 0.2500, 0.4286])\n"
     ]
    }
   ],
   "source": [
    "z = torch.true_divide(x,y) # element-wise division if equal shape\n",
    "print(z)"
   ]
  },
  {
   "cell_type": "code",
   "execution_count": 15,
   "id": "5ed0b06c",
   "metadata": {},
   "outputs": [
    {
     "name": "stdout",
     "output_type": "stream",
     "text": [
      "tensor([0.2000, 0.4000, 0.6000])\n"
     ]
    }
   ],
   "source": [
    "z = torch.true_divide(x,5) # broad-casting divison if divide by a single number\n",
    "print(z)"
   ]
  },
  {
   "cell_type": "markdown",
   "id": "eb1c64a9",
   "metadata": {},
   "source": [
    "### Inplace operations"
   ]
  },
  {
   "cell_type": "markdown",
   "id": "e498bc93",
   "metadata": {},
   "source": [
    "<code>x.add_(y)</code>\n",
    "<code>x.subtract_(y)</code>\n",
    "<code>x.multiply_(y)</code>\n",
    "<code>x.divide_(y)</code>\n",
    "\n",
    "<code>_</code> means <code>inplace</code>"
   ]
  },
  {
   "cell_type": "code",
   "execution_count": 26,
   "id": "7a759b49",
   "metadata": {},
   "outputs": [
    {
     "name": "stdout",
     "output_type": "stream",
     "text": [
      "x: tensor([1, 2, 3])\n",
      "tensor([2., 3., 4.])\n",
      "tensor([ 0., -1., -2.])\n",
      "tensor([5., 5., 5.])\n",
      "tensor([0.1000, 0.1000, 0.1000])\n"
     ]
    }
   ],
   "source": [
    "print(\"x:\",x)\n",
    "\n",
    "t1 = torch.ones(3)\n",
    "t2 = torch.ones(3)\n",
    "t3 = torch.ones(3)\n",
    "t4 = torch.ones(3)\n",
    "\n",
    "t1.add_(x) # _ means in-place\n",
    "t2.subtract_(x)\n",
    "t3.multiply_(5)\n",
    "t4.divide_(10)\n",
    "\n",
    "print(t1)\n",
    "print(t2)\n",
    "print(t3)\n",
    "print(t4)"
   ]
  },
  {
   "cell_type": "markdown",
   "id": "da190ddb",
   "metadata": {},
   "source": [
    "### Exponentiation"
   ]
  },
  {
   "cell_type": "markdown",
   "id": "54c455b9",
   "metadata": {},
   "source": [
    "<code>x.pow(2)</code>\n",
    "<code>x ** 2</code>"
   ]
  },
  {
   "cell_type": "code",
   "execution_count": 29,
   "id": "4e2563af",
   "metadata": {},
   "outputs": [
    {
     "name": "stdout",
     "output_type": "stream",
     "text": [
      "tensor([1, 4, 9])\n",
      "tensor([1, 4, 9])\n"
     ]
    }
   ],
   "source": [
    "z1 = x.pow(2) #1\n",
    "z2 = x ** 2 #2\n",
    "print(z1)\n",
    "print(z2)"
   ]
  },
  {
   "cell_type": "markdown",
   "id": "40f8b190",
   "metadata": {},
   "source": [
    "### Simple Comparison"
   ]
  },
  {
   "cell_type": "code",
   "execution_count": 31,
   "id": "12b944bf",
   "metadata": {},
   "outputs": [
    {
     "name": "stdout",
     "output_type": "stream",
     "text": [
      "tensor([True, True, True])\n"
     ]
    }
   ],
   "source": [
    "z = x > 0 # element-wise comparision\n",
    "print(z)"
   ]
  },
  {
   "cell_type": "markdown",
   "id": "50cd1cc6",
   "metadata": {},
   "source": [
    "### Matrix Multiplication"
   ]
  },
  {
   "cell_type": "markdown",
   "id": "effe0ac6",
   "metadata": {},
   "source": [
    "<code>M3 = torch.mm(M1, M2)</code>, <code>M3 = M1.mm(M2)</code>"
   ]
  },
  {
   "cell_type": "code",
   "execution_count": 34,
   "id": "64875e93",
   "metadata": {},
   "outputs": [
    {
     "name": "stdout",
     "output_type": "stream",
     "text": [
      "tensor([[1.7427, 1.3168, 1.3177],\n",
      "        [2.4138, 1.7322, 2.1367]])\n",
      "tensor([[1.7427, 1.3168, 1.3177],\n",
      "        [2.4138, 1.7322, 2.1367]])\n"
     ]
    }
   ],
   "source": [
    "x1 = torch.rand((2,5))\n",
    "x2 = torch.rand((5,3))\n",
    "\n",
    "M1 = torch.mm(x1, x2) #1\n",
    "M2 = x1.mm(x2) #2\n",
    "print(M1)\n",
    "print(M2)"
   ]
  },
  {
   "cell_type": "markdown",
   "id": "ef9f021c",
   "metadata": {},
   "source": [
    "### Matrix exponentiation"
   ]
  },
  {
   "cell_type": "markdown",
   "id": "c549d8bf",
   "metadata": {},
   "source": [
    "<code>M2 = M.matrix_power(3)</code>\n",
    "<code>M.mm(M).mm(M)</code>"
   ]
  },
  {
   "cell_type": "code",
   "execution_count": 144,
   "id": "b0d2d910",
   "metadata": {
    "scrolled": true
   },
   "outputs": [
    {
     "name": "stdout",
     "output_type": "stream",
     "text": [
      "tensor([[0.1353, 0.9620, 0.1901, 0.9614, 0.3504],\n",
      "        [0.7192, 0.6707, 0.4126, 0.6405, 0.2624],\n",
      "        [0.2137, 0.3011, 0.6417, 0.6017, 0.3035],\n",
      "        [0.9257, 0.9979, 0.8355, 0.4543, 0.1404],\n",
      "        [0.9281, 0.4380, 0.6225, 0.9091, 0.5664]])\n",
      "-------------------------------------------------------\n",
      "tensor([[1.9659, 1.9455, 1.5660, 1.6159, 0.6909],\n",
      "        [1.5042, 2.0199, 1.3767, 1.8987, 0.7917],\n",
      "        [1.2213, 1.3341, 1.2683, 1.3337, 0.6050],\n",
      "        [1.5723, 2.3261, 1.5908, 2.3658, 0.9830],\n",
      "        [1.9408, 2.5293, 1.8688, 2.4752, 1.0774]])\n",
      "tensor([[1.9659, 1.9455, 1.5660, 1.6159, 0.6909],\n",
      "        [1.5042, 2.0199, 1.3767, 1.8987, 0.7917],\n",
      "        [1.2213, 1.3341, 1.2683, 1.3337, 0.6050],\n",
      "        [1.5723, 2.3261, 1.5908, 2.3658, 0.9830],\n",
      "        [1.9408, 2.5293, 1.8688, 2.4752, 1.0774]])\n"
     ]
    }
   ],
   "source": [
    "M = torch.rand((5,5)) # notice square-matrix -> we can perform exp, otherwise do transpose\n",
    "\n",
    "print(M)\n",
    "print(\"-\"*55)\n",
    "\n",
    "print(M.mm(M))\n",
    "print(M.matrix_power(2))"
   ]
  },
  {
   "cell_type": "markdown",
   "id": "1703c677",
   "metadata": {},
   "source": [
    "### element-wise multiplication"
   ]
  },
  {
   "cell_type": "code",
   "execution_count": 45,
   "id": "c591ba5f",
   "metadata": {
    "scrolled": false
   },
   "outputs": [
    {
     "name": "stdout",
     "output_type": "stream",
     "text": [
      "tensor([1, 2, 3])\n",
      "tensor([9, 8, 7])\n",
      "tensor([ 9, 16, 21])\n"
     ]
    }
   ],
   "source": [
    "print(x)\n",
    "print(y)\n",
    "z = x * y\n",
    "print(z)"
   ]
  },
  {
   "cell_type": "markdown",
   "id": "fe7a0036",
   "metadata": {},
   "source": [
    "### Batch Matrix multiplication"
   ]
  },
  {
   "cell_type": "code",
   "execution_count": 56,
   "id": "d30d1fa2",
   "metadata": {},
   "outputs": [
    {
     "name": "stdout",
     "output_type": "stream",
     "text": [
      "torch.Size([32, 10, 20])\n",
      "torch.Size([32, 20, 30])\n",
      "torch.Size([32, 10, 30])\n"
     ]
    }
   ],
   "source": [
    "batch = 32\n",
    "n = 10\n",
    "m = 20\n",
    "p = 30\n",
    "\n",
    "tensor1 = torch.rand((batch,n,m))\n",
    "print(tensor1.shape)\n",
    "\n",
    "tensor2 = torch.rand((batch,m,p))\n",
    "print(tensor2.shape)\n",
    "\n",
    "out_bmm = torch.bmm(tensor1, tensor2) # batch mm\n",
    "print(out_bmm.shape)"
   ]
  },
  {
   "cell_type": "markdown",
   "id": "39b3d34e",
   "metadata": {},
   "source": [
    "### dot product"
   ]
  },
  {
   "cell_type": "code",
   "execution_count": 57,
   "id": "b3bc8655",
   "metadata": {},
   "outputs": [],
   "source": [
    "z = torch.dot(x, y)"
   ]
  },
  {
   "cell_type": "markdown",
   "id": "3d3bef02",
   "metadata": {},
   "source": [
    "### Broadcasting"
   ]
  },
  {
   "cell_type": "code",
   "execution_count": 81,
   "id": "30891acf",
   "metadata": {
    "scrolled": true
   },
   "outputs": [
    {
     "name": "stdout",
     "output_type": "stream",
     "text": [
      "tensor([[ 1,  2],\n",
      "        [10, 11]])\n",
      "tensor([5, 6])\n",
      "------------------------------\n",
      "tensor([[ 6,  8],\n",
      "        [15, 17]])\n",
      "tensor([[      1,      64],\n",
      "        [ 100000, 1771561]])\n",
      "tensor([[ 6,  7],\n",
      "        [16, 17]])\n"
     ]
    }
   ],
   "source": [
    "x1 = torch.tensor([[1,2],[10,11]])\n",
    "x2 = torch.tensor([5,6])\n",
    "print(x1)\n",
    "print(x2)\n",
    "print('-'*30)\n",
    "\n",
    "z1 = x1 + x2\n",
    "z2 = x1 ** x2\n",
    "z3 = x1 + x2.reshape(2,1)\n",
    "\n",
    "print(z1)\n",
    "print(z2)\n",
    "print(z3)"
   ]
  },
  {
   "cell_type": "markdown",
   "id": "f584ab59",
   "metadata": {},
   "source": [
    "### sum"
   ]
  },
  {
   "cell_type": "code",
   "execution_count": 87,
   "id": "717c7a2a",
   "metadata": {},
   "outputs": [
    {
     "name": "stdout",
     "output_type": "stream",
     "text": [
      "tensor([[ 1,  2],\n",
      "        [10, 11]])\n"
     ]
    }
   ],
   "source": [
    "print(x1)"
   ]
  },
  {
   "cell_type": "code",
   "execution_count": 98,
   "id": "9740cb65",
   "metadata": {
    "scrolled": true
   },
   "outputs": [
    {
     "name": "stdout",
     "output_type": "stream",
     "text": [
      "tensor([11, 13])\n",
      "tensor([ 3, 21])\n"
     ]
    }
   ],
   "source": [
    "sum_vert = torch.sum(x1, dim=0)\n",
    "sum_horiz = torch.sum(x1, dim=1)\n",
    "print(sum_vert)\n",
    "print(sum_horiz)"
   ]
  },
  {
   "cell_type": "markdown",
   "id": "7a578284",
   "metadata": {},
   "source": [
    "### max, min"
   ]
  },
  {
   "cell_type": "code",
   "execution_count": 102,
   "id": "467847ce",
   "metadata": {},
   "outputs": [
    {
     "name": "stdout",
     "output_type": "stream",
     "text": [
      "tensor([10, 11])\n",
      "tensor([1, 1])\n"
     ]
    }
   ],
   "source": [
    "values, indices = torch.max(x1, dim=0)\n",
    "print(values)\n",
    "print(indices)"
   ]
  },
  {
   "cell_type": "markdown",
   "id": "f16942a6",
   "metadata": {},
   "source": [
    "### abs"
   ]
  },
  {
   "cell_type": "code",
   "execution_count": 104,
   "id": "f4d8c86a",
   "metadata": {},
   "outputs": [
    {
     "name": "stdout",
     "output_type": "stream",
     "text": [
      "tensor([[ 1,  2],\n",
      "        [10, 11]])\n"
     ]
    }
   ],
   "source": [
    "abs_x = torch.abs(x1)\n",
    "print(abs_x)"
   ]
  },
  {
   "cell_type": "markdown",
   "id": "18bd40fb",
   "metadata": {},
   "source": [
    "### argmax/argmin"
   ]
  },
  {
   "cell_type": "code",
   "execution_count": 107,
   "id": "415ec095",
   "metadata": {},
   "outputs": [
    {
     "name": "stdout",
     "output_type": "stream",
     "text": [
      "tensor([[ 1,  2],\n",
      "        [10, 11]])\n",
      "tensor([1, 1])\n"
     ]
    }
   ],
   "source": [
    "print(x1)\n",
    "z = torch.argmax(x1, dim=0)\n",
    "print(z)"
   ]
  },
  {
   "cell_type": "markdown",
   "id": "55a2abc2",
   "metadata": {},
   "source": [
    "### mean, std"
   ]
  },
  {
   "cell_type": "code",
   "execution_count": 116,
   "id": "da692dce",
   "metadata": {
    "scrolled": true
   },
   "outputs": [],
   "source": [
    "x1 = x1.float()"
   ]
  },
  {
   "cell_type": "code",
   "execution_count": 118,
   "id": "bbbec3e7",
   "metadata": {},
   "outputs": [
    {
     "name": "stdout",
     "output_type": "stream",
     "text": [
      "(tensor(5.2281), tensor(6.))\n",
      "tensor(6.)\n",
      "tensor(5.2281)\n"
     ]
    }
   ],
   "source": [
    "# print(torch.mean(x1))\n",
    "print(torch.std_mean(x1))\n",
    "print(torch.mean(x1))\n",
    "print(torch.std(x1))"
   ]
  },
  {
   "cell_type": "markdown",
   "id": "796a58de",
   "metadata": {},
   "source": [
    "### eq"
   ]
  },
  {
   "cell_type": "code",
   "execution_count": 121,
   "id": "5f3a5738",
   "metadata": {},
   "outputs": [
    {
     "name": "stdout",
     "output_type": "stream",
     "text": [
      "tensor([[ True,  True,  True],\n",
      "        [False, False, False]])\n"
     ]
    }
   ],
   "source": [
    "x = torch.tensor([[1,2,3],[4,5,6]])\n",
    "y = torch.tensor([[1,2,3],[7,8,9]])\n",
    "\n",
    "z = torch.eq(x,y)\n",
    "print(z)"
   ]
  },
  {
   "cell_type": "markdown",
   "id": "a5ced609",
   "metadata": {},
   "source": [
    "### sort"
   ]
  },
  {
   "cell_type": "code",
   "execution_count": 128,
   "id": "79b53806",
   "metadata": {},
   "outputs": [
    {
     "name": "stdout",
     "output_type": "stream",
     "text": [
      "tensor([[1, 2, 3],\n",
      "        [7, 8, 9]])\n",
      "tensor([[3, 2, 1],\n",
      "        [9, 8, 7]])\n",
      "tensor([[2, 1, 0],\n",
      "        [2, 1, 0]])\n"
     ]
    }
   ],
   "source": [
    "values, indices = torch.sort(y, dim=1, descending=True)\n",
    "print(y)\n",
    "print(values)\n",
    "print(indices)"
   ]
  },
  {
   "cell_type": "markdown",
   "id": "79efaad2",
   "metadata": {},
   "source": [
    "### clamp"
   ]
  },
  {
   "cell_type": "code",
   "execution_count": 131,
   "id": "e77c50cd",
   "metadata": {
    "scrolled": true
   },
   "outputs": [
    {
     "name": "stdout",
     "output_type": "stream",
     "text": [
      "tensor([[1, 2, 3],\n",
      "        [4, 5, 6]])\n",
      "tensor([[3, 3, 3],\n",
      "        [4, 5, 6]])\n"
     ]
    }
   ],
   "source": [
    "print(x)\n",
    "z = torch.clamp(x, min=3) # check all elements of x that are less than \"min\" and set to \"min\"\n",
    "print(z)"
   ]
  },
  {
   "cell_type": "markdown",
   "id": "7fa5c286",
   "metadata": {},
   "source": [
    "### any / all"
   ]
  },
  {
   "cell_type": "code",
   "execution_count": 132,
   "id": "1ea80e51",
   "metadata": {},
   "outputs": [],
   "source": [
    "x = torch.tensor([1,0,1,1,1], dtype=torch.bool)"
   ]
  },
  {
   "cell_type": "code",
   "execution_count": 133,
   "id": "6e507144",
   "metadata": {},
   "outputs": [
    {
     "data": {
      "text/plain": [
       "tensor([ True, False,  True,  True,  True])"
      ]
     },
     "execution_count": 133,
     "metadata": {},
     "output_type": "execute_result"
    }
   ],
   "source": [
    "x"
   ]
  },
  {
   "cell_type": "code",
   "execution_count": 134,
   "id": "4b03eb03",
   "metadata": {},
   "outputs": [
    {
     "name": "stdout",
     "output_type": "stream",
     "text": [
      "tensor(True)\n"
     ]
    }
   ],
   "source": [
    "z = torch.any(x)\n",
    "print(z)"
   ]
  },
  {
   "cell_type": "code",
   "execution_count": 137,
   "id": "af0632e5",
   "metadata": {},
   "outputs": [
    {
     "name": "stdout",
     "output_type": "stream",
     "text": [
      "tensor(False)\n"
     ]
    }
   ],
   "source": [
    "z = torch.all(x)\n",
    "print(z)"
   ]
  },
  {
   "cell_type": "code",
   "execution_count": null,
   "id": "7019e3ac",
   "metadata": {},
   "outputs": [],
   "source": []
  }
 ],
 "metadata": {
  "kernelspec": {
   "display_name": "Python 3",
   "language": "python",
   "name": "python3"
  },
  "language_info": {
   "codemirror_mode": {
    "name": "ipython",
    "version": 3
   },
   "file_extension": ".py",
   "mimetype": "text/x-python",
   "name": "python",
   "nbconvert_exporter": "python",
   "pygments_lexer": "ipython3",
   "version": "3.8.8"
  }
 },
 "nbformat": 4,
 "nbformat_minor": 5
}
