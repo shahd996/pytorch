{
 "cells": [
  {
   "cell_type": "code",
   "execution_count": 1,
   "id": "aef23397",
   "metadata": {},
   "outputs": [],
   "source": [
    "import torch\n",
    "import torch.nn as nn\n",
    "from sklearn import datasets\n",
    "import matplotlib.pyplot as plt\n",
    "import numpy as np\n",
    "import torchvision\n",
    "import torchvision.transforms as transforms\n",
    "from torch.utils.data import DataLoader\n",
    "import torch.nn.functional as F"
   ]
  },
  {
   "cell_type": "markdown",
   "id": "0f917674",
   "metadata": {},
   "source": [
    "# Table Contents"
   ]
  },
  {
   "cell_type": "markdown",
   "id": "dfd991d5",
   "metadata": {},
   "source": [
    "* [**1.** Tensor Basics](#tensor-basics)\n",
    "    * [**1.1** Tensor Initialization](#tensor-initialization)\n",
    "    * [**1.2** Data Type / Data Type Conversion](#data-type)\n",
    "    * [**1.3** Tensor Shape](#tensor-shape)\n",
    "    * [**1.4** Tensor Copy](#tensor-copy)\n",
    "    * [**1.5** Basic Operations](#basic-operations)\n",
    "        * Element-wise\n",
    "        * In-place\n",
    "    * [**1.6** Reshape](#reshape)\n",
    "    * [**1.7** Convert b/w Tensor and Numpy](#convert)\n",
    "* [**2.** Autograd](#autograd)\n",
    "    * [**2.1** Calculate Gradients](#calculate-gradients)\n",
    "    * [**2.2** Prevent Tracking Gradients](#prevent-tracking-grads)\n",
    "    * [**2.3** Reset(empty) Gradients](#reset-grads)"
   ]
  },
  {
   "cell_type": "markdown",
   "id": "aab1a36a",
   "metadata": {},
   "source": [
    "# <a name=\"tensor-basics\">1. Tensor Basics</a>"
   ]
  },
  {
   "cell_type": "markdown",
   "id": "f44420e8",
   "metadata": {},
   "source": [
    "---"
   ]
  },
  {
   "cell_type": "markdown",
   "id": "bed89ae6",
   "metadata": {},
   "source": [
    "## <a name=\"tensor-initialization\">1.1 Tensor Initialization</a>"
   ]
  },
  {
   "cell_type": "markdown",
   "id": "138ae060",
   "metadata": {},
   "source": [
    "<code>empty</code>"
   ]
  },
  {
   "cell_type": "code",
   "execution_count": 4,
   "id": "4ef3708c",
   "metadata": {
    "scrolled": true
   },
   "outputs": [
    {
     "name": "stdout",
     "output_type": "stream",
     "text": [
      "torch.Size([1])\n",
      "torch.Size([1, 2])\n",
      "torch.Size([1, 2, 3])\n"
     ]
    }
   ],
   "source": [
    "d1 = torch.empty(1)\n",
    "d2 = torch.empty(1,2)\n",
    "d3 = torch.empty(1,2,3)\n",
    "\n",
    "print(d1.shape)\n",
    "print(d2.shape)\n",
    "print(d3.shape)"
   ]
  },
  {
   "cell_type": "markdown",
   "id": "610ddb7e",
   "metadata": {},
   "source": [
    "<code>rand</code>"
   ]
  },
  {
   "cell_type": "code",
   "execution_count": 5,
   "id": "9198d8dc",
   "metadata": {
    "scrolled": true
   },
   "outputs": [
    {
     "name": "stdout",
     "output_type": "stream",
     "text": [
      "tensor([[0.8599, 0.6840],\n",
      "        [0.7834, 0.5486]])\n"
     ]
    }
   ],
   "source": [
    "x = torch.rand(2,2)\n",
    "print(x)"
   ]
  },
  {
   "cell_type": "markdown",
   "id": "7c7e9c2b",
   "metadata": {},
   "source": [
    "<code>randn</code>"
   ]
  },
  {
   "cell_type": "code",
   "execution_count": 6,
   "id": "92d83725",
   "metadata": {},
   "outputs": [
    {
     "name": "stdout",
     "output_type": "stream",
     "text": [
      "tensor([[-0.8464,  1.1656],\n",
      "        [ 1.5682,  0.2010]])\n"
     ]
    }
   ],
   "source": [
    "x = torch.randn(2,2)\n",
    "print(x)"
   ]
  },
  {
   "cell_type": "markdown",
   "id": "3d96d031",
   "metadata": {},
   "source": [
    "<code>zeros</code> <code>ones</code>"
   ]
  },
  {
   "cell_type": "code",
   "execution_count": 7,
   "id": "c0443bc1",
   "metadata": {},
   "outputs": [
    {
     "name": "stdout",
     "output_type": "stream",
     "text": [
      "tensor([[0., 0.],\n",
      "        [0., 0.]])\n",
      "tensor([[0., 0.],\n",
      "        [0., 0.]])\n"
     ]
    }
   ],
   "source": [
    "x = torch.zeros(2,2)\n",
    "y = torch.zeros(2,2)\n",
    "print(x)\n",
    "print(y)"
   ]
  },
  {
   "cell_type": "markdown",
   "id": "40fd0276",
   "metadata": {},
   "source": [
    "<code>torch.tensor()</code>"
   ]
  },
  {
   "cell_type": "code",
   "execution_count": 151,
   "id": "31314692",
   "metadata": {
    "scrolled": true
   },
   "outputs": [
    {
     "name": "stdout",
     "output_type": "stream",
     "text": [
      "tensor([2.5000, 0.1000, 5.0000], dtype=torch.float16)\n",
      "torch.float16\n"
     ]
    }
   ],
   "source": [
    "x = torch.tensor([2.5, 0.1, 5], dtype=torch.float16)\n",
    "print(x)\n",
    "print(x.dtype)"
   ]
  },
  {
   "cell_type": "markdown",
   "id": "645bfd99",
   "metadata": {},
   "source": [
    "---"
   ]
  },
  {
   "cell_type": "markdown",
   "id": "f75ea2a5",
   "metadata": {},
   "source": [
    "## <a name=\"data-type\">1.2 Data Type</a>"
   ]
  },
  {
   "cell_type": "markdown",
   "id": "16bba4e1",
   "metadata": {},
   "source": [
    "### Check data type"
   ]
  },
  {
   "cell_type": "code",
   "execution_count": 11,
   "id": "d7ae6f21",
   "metadata": {
    "scrolled": true
   },
   "outputs": [
    {
     "name": "stdout",
     "output_type": "stream",
     "text": [
      "x type: torch.float32\n",
      "y type: torch.float16\n"
     ]
    }
   ],
   "source": [
    "x = torch.ones(2,2)\n",
    "print(\"x type:\", x.dtype)\n",
    "\n",
    "y = torch.ones(2,2, dtype=torch.float16)\n",
    "print(\"y type:\", y.dtype)"
   ]
  },
  {
   "cell_type": "markdown",
   "id": "492f2cdb",
   "metadata": {},
   "source": [
    "### Convert data type"
   ]
  },
  {
   "cell_type": "markdown",
   "id": "54b5b385",
   "metadata": {},
   "source": [
    "<code>x.int()</code> <code>x.float()</code> <code>x.bool()</code> ...\n"
   ]
  },
  {
   "cell_type": "code",
   "execution_count": 150,
   "id": "6f3fb15b",
   "metadata": {
    "scrolled": true
   },
   "outputs": [
    {
     "name": "stdout",
     "output_type": "stream",
     "text": [
      "tensor:  tensor([0, 1, 2, 3])\n",
      "-------------------------------\n",
      "tensor.bool(): tensor([False,  True,  True,  True])\n",
      "tensor.short(): tensor([0, 1, 2, 3], dtype=torch.int16)\n",
      "tensor.long(): tensor([0, 1, 2, 3])\n",
      "tensor.half(): tensor([0., 1., 2., 3.], dtype=torch.float16)\n",
      "tensor.float(): tensor([0., 1., 2., 3.])\n",
      "tensor.double(): tensor([0., 1., 2., 3.], dtype=torch.float64)\n"
     ]
    }
   ],
   "source": [
    "x = torch.arange(4) # dtype = int64\n",
    "print(\"tensor: \",x)\n",
    "print(\"-------------------------------\")\n",
    "print(\"tensor.bool():\",x.bool())\n",
    "print(\"tensor.short():\",x.short())\n",
    "print(\"tensor.long():\",x.long())\n",
    "print(\"tensor.half():\",x.half())\n",
    "print(\"tensor.float():\",x.float())\n",
    "print(\"tensor.double():\",x.double())"
   ]
  },
  {
   "cell_type": "markdown",
   "id": "be04c384",
   "metadata": {},
   "source": [
    "---"
   ]
  },
  {
   "cell_type": "markdown",
   "id": "a09dcd65",
   "metadata": {},
   "source": [
    "## <a name=\"tensor-shape\">1.3 Tensor Shape</a>"
   ]
  },
  {
   "cell_type": "markdown",
   "id": "86dbed1b",
   "metadata": {},
   "source": [
    "<code>x.shape</code> <code>x.size()</code>"
   ]
  },
  {
   "cell_type": "code",
   "execution_count": 148,
   "id": "cdcda628",
   "metadata": {
    "scrolled": false
   },
   "outputs": [
    {
     "name": "stdout",
     "output_type": "stream",
     "text": [
      "x shape: torch.Size([3, 3])\n",
      "x shape: torch.Size([3, 3])\n"
     ]
    }
   ],
   "source": [
    "x = torch.ones(3, 3, dtype=torch.double)\n",
    "print(f\"x shape: {x.shape}\")\n",
    "print(f\"x shape: {x.size()}\")"
   ]
  },
  {
   "cell_type": "markdown",
   "id": "1a26446e",
   "metadata": {},
   "source": [
    "---"
   ]
  },
  {
   "cell_type": "markdown",
   "id": "3b145514",
   "metadata": {},
   "source": [
    "## <a name=\"tensor-copy\">1.4 Tensor Copy</a>"
   ]
  },
  {
   "cell_type": "markdown",
   "id": "eeb47d48",
   "metadata": {},
   "source": [
    "<code>**x.clone().detach()**</code>\n",
    "\n",
    "* If you just assign <code>x = y</code>, you're passing the <code>reference</code> so you need to use <code>x = y.clone()</code>\n",
    "* <code>.detach()</code> is to separete from <code>computation graph</code>"
   ]
  },
  {
   "cell_type": "code",
   "execution_count": 154,
   "id": "54698de8",
   "metadata": {},
   "outputs": [
    {
     "name": "stdout",
     "output_type": "stream",
     "text": [
      "Original x: tensor([[0.7119, 0.1766]])\n",
      "Original y: tensor([[0.7119, 0.1766]])\n",
      "------------------------------\n",
      "After Modifying x | .clone().detach()\n",
      "x: tensor([[1.7119, 1.1766]])\n",
      "y: tensor([[0.7119, 0.1766]])\n"
     ]
    }
   ],
   "source": [
    "# 1) x.clone().detach()\n",
    "x = torch.rand(1,2)\n",
    "y = x.clone().detach()\n",
    "print(f\"Original x: {x}\")\n",
    "print(f\"Original y: {y}\")\n",
    "\n",
    "# Modify \"x\"\n",
    "x.add_(1)\n",
    "\n",
    "print(\"-\"*30)\n",
    "print(\"After Modifying x | .clone().detach()\")\n",
    "print(f\"x: {x}\")\n",
    "print(f\"y: {y}\")"
   ]
  },
  {
   "cell_type": "code",
   "execution_count": 155,
   "id": "93e1a1ed",
   "metadata": {},
   "outputs": [
    {
     "name": "stdout",
     "output_type": "stream",
     "text": [
      "Original x: tensor([[0.5889, 0.4031]])\n",
      "Original y: tensor([[0.5889, 0.4031]])\n",
      "------------------------------\n",
      "After Modifying x | x = y\n",
      "x: tensor([[1.5889, 1.4031]])\n",
      "y: tensor([[1.5889, 1.4031]])\n"
     ]
    }
   ],
   "source": [
    "# 2) Assignment Operator\n",
    "x = torch.rand(1,2)\n",
    "y = x\n",
    "print(f\"Original x: {x}\")\n",
    "print(f\"Original y: {y}\")\n",
    "\n",
    "# Modify \"x\"\n",
    "x.add_(1)\n",
    "\n",
    "print(\"-\"*30)\n",
    "print(\"After Modifying x | x = y\")\n",
    "print(f\"x: {x}\")\n",
    "print(f\"y: {y}\")"
   ]
  },
  {
   "cell_type": "markdown",
   "id": "6434a01e",
   "metadata": {},
   "source": [
    "---"
   ]
  },
  {
   "cell_type": "markdown",
   "id": "955fdfa1",
   "metadata": {},
   "source": [
    "## <a name=\"basic-operations\">1.5 Basic Operations</a>"
   ]
  },
  {
   "cell_type": "markdown",
   "id": "884f77ed",
   "metadata": {},
   "source": [
    "### 1) Element-wise operations"
   ]
  },
  {
   "cell_type": "code",
   "execution_count": 158,
   "id": "12e237ae",
   "metadata": {
    "scrolled": true
   },
   "outputs": [
    {
     "name": "stdout",
     "output_type": "stream",
     "text": [
      "x + y: tensor([[1.3532, 0.2733],\n",
      "        [1.3901, 0.7752]])\n",
      "x - y: tensor([[-0.2460, -0.2085],\n",
      "        [-0.3234, -0.5713]])\n",
      "x * y: tensor([[0.4426, 0.0078],\n",
      "        [0.4569, 0.0686]])\n",
      "x / y: tensor([[0.6923, 0.1345],\n",
      "        [0.6225, 0.1514]])\n"
     ]
    }
   ],
   "source": [
    "x = torch.rand(2,2)\n",
    "y = torch.rand(2,2)\n",
    "\n",
    "add = x + y # torch.add(x,y)\n",
    "sub = x - y # torch.sub(x,y)\n",
    "mul = x * y # torch.mul(x,y)\n",
    "div = x / y # torch.div(x,y)\n",
    "\n",
    "print(f\"x + y: {add}\")\n",
    "print(f\"x - y: {sub}\")\n",
    "print(f\"x * y: {mul}\")\n",
    "print(f\"x / y: {div}\")"
   ]
  },
  {
   "cell_type": "markdown",
   "id": "04d7a2f4",
   "metadata": {},
   "source": [
    "### 2) In-place operations"
   ]
  },
  {
   "cell_type": "code",
   "execution_count": 144,
   "id": "707fd85e",
   "metadata": {
    "scrolled": true
   },
   "outputs": [
    {
     "name": "stdout",
     "output_type": "stream",
     "text": [
      "DONE!\n"
     ]
    }
   ],
   "source": [
    "x = torch.rand(1,2)\n",
    "y = torch.rand(1,2)\n",
    "x_temp = x.clone().detach()\n",
    "y_temp = y.clone().detach()\n",
    "\n",
    "# Normal Operations\n",
    "add = x + y # torch.add(x,y)\n",
    "sub = x - y # torch.sub(x,y)\n",
    "mul = x * y # torch.mul(x,y)\n",
    "div = x / y # torch.div(x,y)\n",
    "\n",
    "# Some Useful Functions\n",
    "def getClone(t):\n",
    "    return t.clone().detach()\n",
    "\n",
    "def isEqual(t1, t2):\n",
    "    comp = torch.eq(t1, t2) # torch.eq(t1, t2) <=> t1 == t2, element-wise comparison!\n",
    "    return torch.sum(comp) == torch.numel(t1)\n",
    "\n",
    "# In-place operations: (operator)_\n",
    "assert isEqual(x.add_(y),add) == True\n",
    "x = getClone(x_temp)\n",
    "\n",
    "assert isEqual(x.sub_(y),sub) == True\n",
    "x = getClone(x_temp)\n",
    "\n",
    "assert isEqual(x.mul_(y),mul) == True\n",
    "x = getClone(x_temp)\n",
    "\n",
    "assert isEqual(x.div_(y),div) == True\n",
    "x = getClone(x_temp)\n",
    "\n",
    "print(\"DONE!\")"
   ]
  },
  {
   "cell_type": "markdown",
   "id": "85710e59",
   "metadata": {},
   "source": [
    "---"
   ]
  },
  {
   "cell_type": "markdown",
   "id": "4f4cc3fa",
   "metadata": {},
   "source": [
    "## <a name=\"reshape\">1.6 Reshape</a>"
   ]
  },
  {
   "cell_type": "markdown",
   "id": "0737bea2",
   "metadata": {},
   "source": [
    "<code>x.view()</code>"
   ]
  },
  {
   "cell_type": "code",
   "execution_count": 12,
   "id": "0bdc595d",
   "metadata": {},
   "outputs": [
    {
     "name": "stdout",
     "output_type": "stream",
     "text": [
      "torch.Size([16])\n",
      "torch.Size([16])\n",
      "torch.Size([2, 8])\n"
     ]
    }
   ],
   "source": [
    "x = torch.rand(4,4)\n",
    "\n",
    "r1 = x.view(16)\n",
    "r2 = x.view(-1)\n",
    "r3 = x.view(-1, 8)\n",
    "print(r1.size())\n",
    "print(r2.size())\n",
    "print(r3.size())"
   ]
  },
  {
   "cell_type": "markdown",
   "id": "0f969a63",
   "metadata": {},
   "source": [
    "<code>x.reshape()</code>"
   ]
  },
  {
   "cell_type": "code",
   "execution_count": 13,
   "id": "74e51b44",
   "metadata": {},
   "outputs": [
    {
     "name": "stdout",
     "output_type": "stream",
     "text": [
      "torch.Size([16])\n",
      "torch.Size([16])\n",
      "torch.Size([2, 8])\n"
     ]
    }
   ],
   "source": [
    "x = torch.rand(4,4)\n",
    "r1 = x.reshape(16)\n",
    "r2 = x.reshape(-1)\n",
    "r3 = x.reshape(-1, 8)\n",
    "print(r1.size())\n",
    "print(r2.size())\n",
    "print(r3.size())"
   ]
  },
  {
   "cell_type": "markdown",
   "id": "9219978f",
   "metadata": {},
   "source": [
    "---"
   ]
  },
  {
   "cell_type": "markdown",
   "id": "0d6f35fb",
   "metadata": {},
   "source": [
    "## <a name=\"convert\">1.7 Convert b/w Tensor and Numpy</a>"
   ]
  },
  {
   "cell_type": "markdown",
   "id": "66c4de85",
   "metadata": {},
   "source": [
    "**NOTE**: Numpy is only available for <code>CPU</code>. So you <code>cannot</code> convert <code>GPU tensor</code> to <code>numpy</code>!"
   ]
  },
  {
   "cell_type": "markdown",
   "id": "fc6a58ba",
   "metadata": {},
   "source": [
    "### Tensor -> Numpy"
   ]
  },
  {
   "cell_type": "markdown",
   "id": "ee477a28",
   "metadata": {},
   "source": [
    "**WARNING**: If the tensor is on the <code>CPU</code>, then both will share the <code>same memory location<code/>!!!"
   ]
  },
  {
   "cell_type": "markdown",
   "id": "6e892630",
   "metadata": {},
   "source": [
    "<code>x.numpy()</code>"
   ]
  },
  {
   "cell_type": "code",
   "execution_count": 20,
   "id": "2f063b0a",
   "metadata": {},
   "outputs": [
    {
     "name": "stdout",
     "output_type": "stream",
     "text": [
      "tensor([1., 1., 1., 1., 1.])\n",
      "tensor([3., 3., 3., 3., 3.])\n",
      "[1. 1. 1. 1. 1.]\n"
     ]
    }
   ],
   "source": [
    "a = torch.ones(5)\n",
    "print(a)\n",
    "b = a.clone().detach().numpy() # Copy!\n",
    "\n",
    "a += 2\n",
    "print(a)\n",
    "print(b)"
   ]
  },
  {
   "cell_type": "markdown",
   "id": "04c853c8",
   "metadata": {},
   "source": [
    "### Numpy -> Tensor"
   ]
  },
  {
   "cell_type": "markdown",
   "id": "094b65c2",
   "metadata": {},
   "source": [
    "**WARNING**: If the tensor is on the <code>CPU</code>, then both will share the <code>same memory location<code/>!!!"
   ]
  },
  {
   "cell_type": "markdown",
   "id": "4f23c717",
   "metadata": {},
   "source": [
    "<code>torch.from_numpy()</code>"
   ]
  },
  {
   "cell_type": "code",
   "execution_count": 25,
   "id": "d6f287e4",
   "metadata": {
    "scrolled": true
   },
   "outputs": [
    {
     "name": "stdout",
     "output_type": "stream",
     "text": [
      "a: [1. 1. 1. 1. 1.]\n",
      "[3. 3. 3. 3. 3.]\n",
      "tensor([1., 1., 1., 1., 1.], dtype=torch.float64)\n"
     ]
    }
   ],
   "source": [
    "a = np.ones(5)\n",
    "print(f\"a: {a}\")\n",
    "\n",
    "b = torch.from_numpy(a.copy())\n",
    "\n",
    "a += 2\n",
    "print(a)\n",
    "print(b)"
   ]
  },
  {
   "cell_type": "markdown",
   "id": "0ed9ec63",
   "metadata": {},
   "source": [
    "---"
   ]
  },
  {
   "cell_type": "markdown",
   "id": "692ad372",
   "metadata": {},
   "source": [
    "# <a name=\"autograd\">2. Autograd</a>"
   ]
  },
  {
   "cell_type": "markdown",
   "id": "ba988031",
   "metadata": {},
   "source": [
    "## <a name=\"calculate-gradients\">2.1 Calculate Gradients</a>"
   ]
  },
  {
   "cell_type": "markdown",
   "id": "92fff94a",
   "metadata": {},
   "source": [
    "* If we want to calculate the gradients of some function w.r.t <code>x</code>, we must specify do <code>requires_grad = True</code>\n",
    "* Whenever we do operations with the tensor <code>x</code>, pytorch will create <code>computational graph</code>.\n",
    "* **WARNING**: ONLY <code>Leaf variables</code> can be calculated for gradients\n",
    "* **WARNING**: Grad can be implicitly created only for scalar ouputs -> Otherwise, we have to put Jacobian vector to the parameter of .backward()"
   ]
  },
  {
   "cell_type": "markdown",
   "id": "be0ee591",
   "metadata": {},
   "source": [
    "---"
   ]
  },
  {
   "cell_type": "markdown",
   "id": "b66df3d4",
   "metadata": {},
   "source": [
    "#### Intuition"
   ]
  },
  {
   "cell_type": "code",
   "execution_count": 78,
   "id": "6f610735",
   "metadata": {
    "scrolled": true
   },
   "outputs": [
    {
     "name": "stdout",
     "output_type": "stream",
     "text": [
      "tensor(32., grad_fn=<MulBackward0>)\n",
      "tensor(80.)\n"
     ]
    }
   ],
   "source": [
    "x = torch.tensor(2, dtype=torch.float32, requires_grad=True)\n",
    "\n",
    "y = x * x * x * x * x # x^5\n",
    "print(y)\n",
    "\n",
    "y.backward() # dy/dx = d/dx(x^5) = 5x^4\n",
    "\n",
    "print(x.grad) # f'(x) = 5x^4, f'(2) = 80"
   ]
  },
  {
   "cell_type": "markdown",
   "id": "0be6f489",
   "metadata": {},
   "source": [
    "#### Vector leaf variable (input layer in NN)"
   ]
  },
  {
   "cell_type": "code",
   "execution_count": 79,
   "id": "4a524911",
   "metadata": {
    "scrolled": false
   },
   "outputs": [
    {
     "name": "stdout",
     "output_type": "stream",
     "text": [
      "x: tensor([ 0.7533,  0.2624, -0.1996], requires_grad=True)\n",
      "y: tensor([2.7533, 2.2624, 1.8004], grad_fn=<AddBackward0>)\n",
      "z: tensor([15.1610, 10.2367,  6.4826], grad_fn=<MulBackward0>)\n",
      "output: tensor(10.6268, grad_fn=<MeanBackward0>)\n",
      "Grad of x: tensor([3.6710, 3.0165, 2.4005])\n"
     ]
    }
   ],
   "source": [
    "# x: leaf variable\n",
    "x = torch.randn(3, requires_grad=True)\n",
    "print(\"x:\",x)\n",
    "\n",
    "y = x + 2\n",
    "print(\"y:\",y)\n",
    "\n",
    "z = y*y*2\n",
    "print(\"z:\",z)\n",
    "\n",
    "# scalar output\n",
    "out = z.mean()\n",
    "print(\"output:\",out)\n",
    "\n",
    "# Backprop\n",
    "out.backward() # dz/dx\n",
    "\n",
    "# Gradient\n",
    "print(\"Grad of x:\",x.grad)"
   ]
  },
  {
   "cell_type": "markdown",
   "id": "88f850fc",
   "metadata": {},
   "source": [
    "#### Only Scalar output! Otherwise, we should pass Jacobian vector to the parameter of .backward()"
   ]
  },
  {
   "cell_type": "code",
   "execution_count": 71,
   "id": "680b4cc1",
   "metadata": {
    "scrolled": true
   },
   "outputs": [
    {
     "name": "stdout",
     "output_type": "stream",
     "text": [
      "tensor(2., requires_grad=True)\n",
      "tensor(4., grad_fn=<MulBackward0>)\n",
      "tensor(192.)\n",
      "None\n"
     ]
    }
   ],
   "source": [
    "x = torch.tensor(2.0, dtype=torch.float32, requires_grad=True)\n",
    "y = torch.tensor(1.0, dtype=torch.float32, requires_grad=True)\n",
    "y = x * x # 4\n",
    "z = y * y * y # 64\n",
    "print(x)\n",
    "print(y)\n",
    "z.backward()\n",
    "print(x.grad)\n",
    "print(y.grad) # YOU CANNOT DO THIS! Only \"LEAF\" variables"
   ]
  },
  {
   "cell_type": "markdown",
   "id": "36369dc2",
   "metadata": {},
   "source": [
    "---"
   ]
  },
  {
   "cell_type": "markdown",
   "id": "e3175165",
   "metadata": {},
   "source": [
    "## <a name=\"prevent-tracking-grads\">2.2 Prevent Tracking Gradients</a>"
   ]
  },
  {
   "cell_type": "markdown",
   "id": "4199fb9f",
   "metadata": {},
   "source": [
    "#### 1. <code>x.requires_grad = False</code>"
   ]
  },
  {
   "cell_type": "code",
   "execution_count": 87,
   "id": "3c0b22a9",
   "metadata": {},
   "outputs": [
    {
     "name": "stdout",
     "output_type": "stream",
     "text": [
      "tensor([-2.0114,  0.2078, -0.5200], requires_grad=True)\n",
      "tensor([-2.0114,  0.2078, -0.5200])\n"
     ]
    }
   ],
   "source": [
    "x = torch.randn(3, dtype=torch.float32, requires_grad = True)\n",
    "print(x)\n",
    "\n",
    "# Set requires_grad = False\n",
    "x.requires_grad = False # or x.requires_grad_(False)\n",
    "print(x)"
   ]
  },
  {
   "cell_type": "markdown",
   "id": "39b209ed",
   "metadata": {},
   "source": [
    "#### 2. <code>y = x.detach()</code>"
   ]
  },
  {
   "cell_type": "code",
   "execution_count": 91,
   "id": "366eb0e4",
   "metadata": {},
   "outputs": [
    {
     "name": "stdout",
     "output_type": "stream",
     "text": [
      "tensor([-0.1849,  0.9818,  1.8296], requires_grad=True)\n",
      "tensor([-0.1849,  0.9818,  1.8296])\n"
     ]
    }
   ],
   "source": [
    "x = torch.randn(3, dtype=torch.float32, requires_grad = True)\n",
    "print(x)\n",
    "\n",
    "y = x.detach()\n",
    "print(y)"
   ]
  },
  {
   "cell_type": "markdown",
   "id": "c486fec7",
   "metadata": {},
   "source": [
    "#### 3. <code>with torch.no_grad():</code>"
   ]
  },
  {
   "cell_type": "code",
   "execution_count": 96,
   "id": "600ecb14",
   "metadata": {
    "scrolled": true
   },
   "outputs": [
    {
     "name": "stdout",
     "output_type": "stream",
     "text": [
      "tensor([ 0.4112, -0.8595, -0.6248], requires_grad=True)\n",
      "tensor([2.4112, 1.1405, 1.3752], grad_fn=<AddBackward0>)\n",
      "tensor([2.4112, 1.1405, 1.3752])\n"
     ]
    }
   ],
   "source": [
    "x = torch.randn(3, dtype=torch.float32, requires_grad = True)\n",
    "print(x)\n",
    "\n",
    "# Torch is tracking grads of y\n",
    "y = x + 2\n",
    "print(y)\n",
    "\n",
    "with torch.no_grad():\n",
    "    # Torch stops tracking grads of y\n",
    "    y = x + 2\n",
    "    print(y)\n",
    "    pass"
   ]
  },
  {
   "cell_type": "markdown",
   "id": "6f2eb731",
   "metadata": {},
   "source": [
    "---"
   ]
  },
  {
   "cell_type": "markdown",
   "id": "e56ebd47",
   "metadata": {},
   "source": [
    "## <a name=\"reset-grads\">2.3 [Important] Reset(empty) gradients </a>"
   ]
  },
  {
   "cell_type": "markdown",
   "id": "219b3134",
   "metadata": {},
   "source": [
    "### Grads are <code>accumulated</code>!!! Must <code>turn off</code> for new calculation"
   ]
  },
  {
   "cell_type": "markdown",
   "id": "b2c922c8",
   "metadata": {},
   "source": [
    "### WRONG!"
   ]
  },
  {
   "cell_type": "code",
   "execution_count": 102,
   "id": "fbd210d4",
   "metadata": {
    "scrolled": true
   },
   "outputs": [
    {
     "name": "stdout",
     "output_type": "stream",
     "text": [
      "tensor([3., 3., 3., 3.])\n",
      "tensor([6., 6., 6., 6.])\n",
      "tensor([9., 9., 9., 9.])\n"
     ]
    }
   ],
   "source": [
    "weights = torch.ones(4, dtype=torch.float32, requires_grad = True)\n",
    "\n",
    "for epoch in range(3):\n",
    "    out = (weights * 3).sum()\n",
    "    \n",
    "    out.backward()\n",
    "    \n",
    "    print(weights.grad)"
   ]
  },
  {
   "cell_type": "markdown",
   "id": "20f041c7",
   "metadata": {},
   "source": [
    "### CORRECT!"
   ]
  },
  {
   "cell_type": "markdown",
   "id": "f97e6ce2",
   "metadata": {},
   "source": [
    "<code>weights.grad.zero_()</code>"
   ]
  },
  {
   "cell_type": "code",
   "execution_count": 105,
   "id": "cde0f17b",
   "metadata": {},
   "outputs": [
    {
     "name": "stdout",
     "output_type": "stream",
     "text": [
      "tensor([3., 3., 3., 3.])\n",
      "tensor([3., 3., 3., 3.])\n",
      "tensor([3., 3., 3., 3.])\n"
     ]
    }
   ],
   "source": [
    "weights = torch.ones(4, dtype=torch.float32, requires_grad = True)\n",
    "\n",
    "for epoch in range(3):\n",
    "    out = (weights * 3).sum()\n",
    "    \n",
    "    out.backward()\n",
    "    \n",
    "    print(weights.grad)\n",
    "    \n",
    "    # RESET\n",
    "    weights.grad.zero_()"
   ]
  },
  {
   "cell_type": "markdown",
   "id": "74ec4a24",
   "metadata": {},
   "source": [
    "### Example - optimizer\n",
    "\n",
    "<code>optimizer.zero_grad()</code>"
   ]
  },
  {
   "cell_type": "code",
   "execution_count": 116,
   "id": "40f8e06d",
   "metadata": {},
   "outputs": [],
   "source": [
    "weights = torch.ones(4, requires_grad=True)\n",
    "\n",
    "optimizer = torch.optim.SGD([weights], lr=0.01)\n",
    "\n",
    "# Backprop\n",
    "optimizer.step()\n",
    "\n",
    "# Reset grad\n",
    "optimizer.zero_grad()\n"
   ]
  },
  {
   "cell_type": "markdown",
   "id": "053f6b47",
   "metadata": {},
   "source": [
    "# <a name=\"backpropagation\">3. Backpropagation</a>"
   ]
  },
  {
   "cell_type": "code",
   "execution_count": 5,
   "id": "3c080c21",
   "metadata": {},
   "outputs": [
    {
     "name": "stdout",
     "output_type": "stream",
     "text": [
      "loss: tensor(1., grad_fn=<PowBackward0>)\n",
      "tensor(-2.)\n"
     ]
    }
   ],
   "source": [
    "x = torch.tensor(1.0)\n",
    "y = torch.tensor(2.0)\n",
    "\n",
    "w = torch.tensor(1.0, requires_grad = True)\n",
    "\n",
    "# forward pass\n",
    "y_hat = w * x\n",
    "loss = (y_hat - y) ** 2\n",
    "print(\"loss:\",loss)\n",
    "\n",
    "# backward pass\n",
    "loss.backward()\n",
    "print(w.grad)\n",
    "\n",
    "## update weights\n",
    "## next forward and backward...\n"
   ]
  },
  {
   "cell_type": "markdown",
   "id": "90e491e7",
   "metadata": {},
   "source": [
    "# <a name=\"gradient-descent\">4. Gradient Descent</a>"
   ]
  },
  {
   "cell_type": "markdown",
   "id": "d149b166",
   "metadata": {},
   "source": [
    "## <a name=\"manual\">4.1 Manually - Numpy </a>"
   ]
  },
  {
   "cell_type": "code",
   "execution_count": 26,
   "id": "0db84007",
   "metadata": {
    "scrolled": false
   },
   "outputs": [
    {
     "name": "stdout",
     "output_type": "stream",
     "text": [
      "Prediction before training: f(5) = 0.000\n",
      "epoch 1: w = 1.200, loss = 30.00000000\n",
      "epoch 2: w = 1.680, loss = 4.79999924\n",
      "epoch 3: w = 1.872, loss = 0.76800019\n",
      "epoch 4: w = 1.949, loss = 0.12288000\n",
      "epoch 5: w = 1.980, loss = 0.01966083\n",
      "epoch 6: w = 1.992, loss = 0.00314570\n",
      "epoch 7: w = 1.997, loss = 0.00050332\n",
      "epoch 8: w = 1.999, loss = 0.00008053\n",
      "epoch 9: w = 1.999, loss = 0.00001288\n",
      "epoch 10: w = 2.000, loss = 0.00000206\n",
      "epoch 11: w = 2.000, loss = 0.00000033\n",
      "epoch 12: w = 2.000, loss = 0.00000005\n",
      "epoch 13: w = 2.000, loss = 0.00000001\n",
      "epoch 14: w = 2.000, loss = 0.00000000\n",
      "epoch 15: w = 2.000, loss = 0.00000000\n",
      "Prediction before training: f(5) = 10.000\n"
     ]
    }
   ],
   "source": [
    "# f = w * x\n",
    "\n",
    "X = np.array([1, 2, 3, 4], dtype = np.float32)\n",
    "Y = np.array([2, 4, 6, 8], dtype = np.float32)\n",
    "\n",
    "w = 0.0\n",
    "\n",
    "# model prediction\n",
    "def forward(x):\n",
    "    return w * x\n",
    "\n",
    "# loss = MSE\n",
    "def loss(y, y_predicted):\n",
    "    return ((y_predicted - y) ** 2).mean()\n",
    "\n",
    "# Gradients\n",
    "# MSE = 1/N * (w*X - Y) ** 2\n",
    "# dJ/dw = (1/N) * (2X) * (w*X - Y)\n",
    "def gradient(x, y, y_predicted):\n",
    "    return np.dot(2*x, y_predicted - y).mean()\n",
    "\n",
    "print(f\"Prediction before training: f(5) = {forward(5):.3f}\")\n",
    "\n",
    "# Training\n",
    "lr = 0.01\n",
    "num_epochs = 15\n",
    "\n",
    "for epoch in range(num_epochs):\n",
    "    # prediction = forward pass\n",
    "    y_pred = forward(X)\n",
    "    \n",
    "    # loss\n",
    "    l = loss(Y, y_pred)\n",
    "    \n",
    "    # Gradients\n",
    "    dw = gradient(X, Y, y_pred)\n",
    "    \n",
    "    # Gradient Descents\n",
    "    w -= lr * dw\n",
    "    \n",
    "    print(f\"epoch {epoch + 1}: w = {w:.3f}, loss = {l:.8f}\")\n",
    "    \n",
    "print(f\"Prediction before training: f(5) = {forward(5):.3f}\")\n"
   ]
  },
  {
   "cell_type": "markdown",
   "id": "efa54bcf",
   "metadata": {},
   "source": [
    "## <a name=\"using-pytorch1\">4.2 Using Pytorch - Calculating Gradients</a>"
   ]
  },
  {
   "cell_type": "code",
   "execution_count": 34,
   "id": "594feda1",
   "metadata": {},
   "outputs": [
    {
     "name": "stdout",
     "output_type": "stream",
     "text": [
      "Prediction before training: f(5) = 0.000\n",
      "epoch 0: w = 0.300, loss = 30.00000000\n",
      "epoch 10: w = 1.665, loss = 1.16278565\n",
      "epoch 20: w = 1.934, loss = 0.04506890\n",
      "epoch 30: w = 1.987, loss = 0.00174685\n",
      "epoch 40: w = 1.997, loss = 0.00006770\n",
      "epoch 50: w = 1.999, loss = 0.00000262\n",
      "epoch 60: w = 2.000, loss = 0.00000010\n",
      "epoch 70: w = 2.000, loss = 0.00000000\n",
      "epoch 80: w = 2.000, loss = 0.00000000\n",
      "epoch 90: w = 2.000, loss = 0.00000000\n",
      "Prediction before training: f(5) = 10.000\n"
     ]
    }
   ],
   "source": [
    "# f = w * x\n",
    "\n",
    "X = torch.tensor([1, 2, 3, 4], dtype = torch.float32)\n",
    "Y = torch.tensor([2, 4, 6, 8], dtype = torch.float32)\n",
    "\n",
    "w = torch.tensor(0.0, dtype=torch.float32, requires_grad = True)\n",
    "\n",
    "# model prediction\n",
    "def forward(x):\n",
    "    return w * x\n",
    "\n",
    "# loss = MSE\n",
    "def loss(y, y_predicted):\n",
    "    return ((y_predicted - y) ** 2).mean()\n",
    "\n",
    "# Gradients\n",
    "def gradient(x, y, y_predicted):\n",
    "    return np.dot(2*x, y_predicted - y).mean()\n",
    "\n",
    "print(f\"Prediction before training: f(5) = {forward(5):.3f}\")\n",
    "\n",
    "# Training\n",
    "lr = 0.01\n",
    "num_epochs = 100\n",
    "\n",
    "for epoch in range(num_epochs):\n",
    "    # prediction = forward pass\n",
    "    y_pred = forward(X)\n",
    "    \n",
    "    # loss\n",
    "    l = loss(Y, y_pred)\n",
    "    \n",
    "    # Gradients = backward pass\n",
    "    l.backward() # calculate dl/dw\n",
    "    \n",
    "    # Gradient Descents - update weights\n",
    "    with torch.no_grad():\n",
    "        w -= lr * w.grad\n",
    "        \n",
    "    # zero gradients - prevent accumulate\n",
    "    w.grad.zero_()\n",
    "    if epoch % 10 == 0:\n",
    "        print(f\"epoch {epoch}: w = {w:.3f}, loss = {l:.8f}\")\n",
    "    \n",
    "print(f\"Prediction before training: f(5) = {forward(5):.3f}\")"
   ]
  },
  {
   "cell_type": "markdown",
   "id": "7c2f4223",
   "metadata": {},
   "source": [
    "## <a name=\"using-pytorch3\">4.3 Training Pipeline - Full Pytorch</a>"
   ]
  },
  {
   "cell_type": "code",
   "execution_count": 48,
   "id": "87efac83",
   "metadata": {
    "scrolled": true
   },
   "outputs": [
    {
     "name": "stdout",
     "output_type": "stream",
     "text": [
      "epoch 0: w = 0.450, loss = 13.94171047\n",
      "epoch 10: w = 0.550, loss = 11.38415337\n",
      "epoch 20: w = 0.647, loss = 9.13728619\n",
      "epoch 30: w = 0.741, loss = 7.21859646\n",
      "epoch 40: w = 0.829, loss = 5.62261677\n",
      "epoch 50: w = 0.912, loss = 4.32642221\n",
      "epoch 60: w = 0.989, loss = 3.29690361\n",
      "epoch 70: w = 1.058, loss = 2.49665403\n",
      "epoch 80: w = 1.121, loss = 1.88787580\n",
      "epoch 90: w = 1.178, loss = 1.43474269\n",
      "epoch 100: w = 1.227, loss = 1.10481000\n",
      "epoch 110: w = 1.271, loss = 0.86979514\n",
      "epoch 120: w = 1.309, loss = 0.70589817\n",
      "epoch 130: w = 1.341, loss = 0.59378690\n",
      "epoch 140: w = 1.369, loss = 0.51829404\n",
      "epoch 150: w = 1.393, loss = 0.46792859\n",
      "epoch 160: w = 1.412, loss = 0.43428683\n",
      "epoch 170: w = 1.429, loss = 0.41143200\n",
      "epoch 180: w = 1.443, loss = 0.39531589\n",
      "epoch 190: w = 1.455, loss = 0.38327187\n",
      "epoch 200: w = 1.466, loss = 0.37360388\n",
      "epoch 210: w = 1.475, loss = 0.36527169\n",
      "epoch 220: w = 1.483, loss = 0.35765946\n",
      "epoch 230: w = 1.490, loss = 0.35041875\n",
      "epoch 240: w = 1.496, loss = 0.34335861\n",
      "epoch 250: w = 1.503, loss = 0.33638170\n",
      "epoch 260: w = 1.508, loss = 0.32944199\n",
      "epoch 270: w = 1.514, loss = 0.32252043\n",
      "epoch 280: w = 1.520, loss = 0.31561211\n",
      "epoch 290: w = 1.525, loss = 0.30871826\n",
      "epoch 300: w = 1.531, loss = 0.30184427\n",
      "epoch 310: w = 1.536, loss = 0.29499531\n",
      "epoch 320: w = 1.541, loss = 0.28817770\n",
      "epoch 330: w = 1.547, loss = 0.28139716\n",
      "epoch 340: w = 1.552, loss = 0.27465981\n",
      "epoch 350: w = 1.558, loss = 0.26797086\n",
      "epoch 360: w = 1.563, loss = 0.26133549\n",
      "epoch 370: w = 1.569, loss = 0.25475860\n",
      "epoch 380: w = 1.575, loss = 0.24824481\n",
      "epoch 390: w = 1.580, loss = 0.24179830\n",
      "epoch 400: w = 1.586, loss = 0.23542327\n",
      "epoch 410: w = 1.591, loss = 0.22912319\n",
      "epoch 420: w = 1.597, loss = 0.22290187\n",
      "epoch 430: w = 1.602, loss = 0.21676221\n",
      "epoch 440: w = 1.608, loss = 0.21070734\n",
      "epoch 450: w = 1.614, loss = 0.20474021\n",
      "epoch 460: w = 1.619, loss = 0.19886288\n",
      "epoch 470: w = 1.625, loss = 0.19307792\n",
      "epoch 480: w = 1.630, loss = 0.18738742\n",
      "epoch 490: w = 1.636, loss = 0.18179306\n",
      "epoch 500: w = 1.642, loss = 0.17629650\n",
      "epoch 510: w = 1.647, loss = 0.17089939\n",
      "epoch 520: w = 1.653, loss = 0.16560282\n",
      "epoch 530: w = 1.658, loss = 0.16040803\n",
      "epoch 540: w = 1.664, loss = 0.15531574\n",
      "epoch 550: w = 1.669, loss = 0.15032685\n",
      "epoch 560: w = 1.675, loss = 0.14544176\n",
      "epoch 570: w = 1.680, loss = 0.14066112\n",
      "epoch 580: w = 1.685, loss = 0.13598500\n",
      "epoch 590: w = 1.691, loss = 0.13141355\n",
      "epoch 600: w = 1.696, loss = 0.12694693\n",
      "epoch 610: w = 1.701, loss = 0.12258478\n",
      "epoch 620: w = 1.706, loss = 0.11832707\n",
      "epoch 630: w = 1.712, loss = 0.11417322\n",
      "epoch 640: w = 1.717, loss = 0.11012278\n",
      "epoch 650: w = 1.722, loss = 0.10617518\n",
      "epoch 660: w = 1.727, loss = 0.10232972\n",
      "epoch 670: w = 1.732, loss = 0.09858569\n",
      "epoch 680: w = 1.737, loss = 0.09494206\n",
      "epoch 690: w = 1.742, loss = 0.09139784\n",
      "epoch 700: w = 1.747, loss = 0.08795218\n",
      "epoch 710: w = 1.752, loss = 0.08460376\n",
      "epoch 720: w = 1.757, loss = 0.08135138\n",
      "epoch 730: w = 1.761, loss = 0.07819396\n",
      "epoch 740: w = 1.766, loss = 0.07513005\n",
      "epoch 750: w = 1.771, loss = 0.07215826\n",
      "epoch 760: w = 1.775, loss = 0.06927716\n",
      "epoch 770: w = 1.780, loss = 0.06648547\n",
      "epoch 780: w = 1.785, loss = 0.06378146\n",
      "epoch 790: w = 1.789, loss = 0.06116365\n",
      "epoch 800: w = 1.793, loss = 0.05863055\n",
      "epoch 810: w = 1.798, loss = 0.05618041\n",
      "epoch 820: w = 1.802, loss = 0.05381174\n",
      "epoch 830: w = 1.806, loss = 0.05152274\n",
      "epoch 840: w = 1.811, loss = 0.04931187\n",
      "epoch 850: w = 1.815, loss = 0.04717733\n",
      "epoch 860: w = 1.819, loss = 0.04511746\n",
      "epoch 870: w = 1.823, loss = 0.04313055\n",
      "epoch 880: w = 1.827, loss = 0.04121495\n",
      "epoch 890: w = 1.831, loss = 0.03936882\n",
      "epoch 900: w = 1.835, loss = 0.03759053\n",
      "epoch 910: w = 1.838, loss = 0.03587832\n",
      "epoch 920: w = 1.842, loss = 0.03423052\n",
      "epoch 930: w = 1.846, loss = 0.03264537\n",
      "epoch 940: w = 1.850, loss = 0.03112124\n",
      "epoch 950: w = 1.853, loss = 0.02965631\n",
      "epoch 960: w = 1.857, loss = 0.02824910\n",
      "epoch 970: w = 1.860, loss = 0.02689777\n",
      "epoch 980: w = 1.864, loss = 0.02560077\n",
      "epoch 990: w = 1.867, loss = 0.02435648\n",
      "Prediction before training: f(5) = 9.720\n"
     ]
    }
   ],
   "source": [
    "'''\n",
    "1) Design model (input, output size, forward pass)\n",
    "2) Construct lossand optimizer\n",
    "3) Training loop\n",
    "    * forward pass: compute prediction\n",
    "    * backward pass: gradients\n",
    "    * gradient descent(update weights)\n",
    "    '''\n",
    "\n",
    "import torch.nn as nn\n",
    "\n",
    "# f = w * x\n",
    "\n",
    "X = torch.tensor([[1], [2], [3], [4]], dtype = torch.float32) # num_samples x data\n",
    "Y = torch.tensor([[2], [4], [6], [8]], dtype = torch.float32) # 4 x 1\n",
    "X_test = torch.tensor([[5]], dtype=torch.float32)\n",
    "\n",
    "# Hyperparameters\n",
    "lr = 0.01\n",
    "num_epochs = 1000\n",
    "\n",
    "# model\n",
    "input_size = X.shape[1] # X.shape = (# of samples, # of features)\n",
    "output_size = X.shape[1]\n",
    "\n",
    "'''[METHOD 1]'''\n",
    "class LinearRegression(nn.Module):\n",
    "    def __init__(self, in_features, out_features):\n",
    "        super(LinearRegression, self).__init__()\n",
    "        self.linear1 = nn.Linear(in_features, out_features)\n",
    "    def forward(self, x):\n",
    "        return self.linear1(x)\n",
    "\n",
    "model = LinearRegression(input_size, output_size)\n",
    "\n",
    "'''\n",
    "[METHOD 2]\n",
    "model = nn.Linear(in_features=input_size, out_features=output_size, bias = True)\n",
    "\n",
    "[METHOD 3]\n",
    "model = nn.Sequential(\n",
    "    nn.Linear(input_size, output_size, bias = True)\n",
    ")\n",
    "'''\n",
    "\n",
    "\n",
    "# Loss Function\n",
    "loss = nn.MSELoss()\n",
    "\n",
    "# Optimizer\n",
    "optimizer = torch.optim.Adam(model.parameters(), lr=lr)\n",
    "\n",
    "# Training loop\n",
    "for epoch in range(num_epochs):\n",
    "    # prediction = forward pass\n",
    "    y_pred = model(X)\n",
    "    \n",
    "    # loss\n",
    "    l = loss(Y, y_pred)\n",
    "    \n",
    "    # Gradients = backward pass\n",
    "    l.backward() # calculate dl/dw\n",
    "    \n",
    "    # Gradient Descents - update weights\n",
    "    optimizer.step()\n",
    "        \n",
    "    # zero gradients - prevent accumulate\n",
    "    optimizer.zero_grad()\n",
    "    \n",
    "    \n",
    "    if epoch % 10 == 0:\n",
    "        [w, b] = model.parameters()\n",
    "        print(f\"epoch {epoch}: w = {w[0][0].item():.3f}, loss = {l:.8f}\")\n",
    "    \n",
    "print(f\"Prediction before training: f(5) = {model(X_test).item():.3f}\")"
   ]
  },
  {
   "cell_type": "markdown",
   "id": "53875f9f",
   "metadata": {},
   "source": [
    "# <a name=\"linear-regression\">5. Linear Regression</a>"
   ]
  },
  {
   "cell_type": "code",
   "execution_count": 77,
   "id": "229eaf4d",
   "metadata": {
    "scrolled": false
   },
   "outputs": [
    {
     "name": "stdout",
     "output_type": "stream",
     "text": [
      "epoch 0| Loss: 5616.82568359375\n",
      "epoch 1000| Loss: 4377.82958984375\n",
      "epoch 2000| Loss: 3402.62158203125\n",
      "epoch 3000| Loss: 2592.921630859375\n",
      "epoch 4000| Loss: 1928.9398193359375\n",
      "epoch 5000| Loss: 1398.1383056640625\n",
      "epoch 6000| Loss: 990.4639892578125\n",
      "epoch 7000| Loss: 695.9095458984375\n",
      "epoch 8000| Loss: 502.3505859375\n",
      "epoch 9000| Loss: 393.37835693359375\n",
      "epoch 10000| Loss: 346.4350280761719\n",
      "epoch 11000| Loss: 333.9825744628906\n",
      "epoch 12000| Loss: 332.60198974609375\n",
      "epoch 13000| Loss: 332.5676574707031\n",
      "epoch 14000| Loss: 332.56756591796875\n"
     ]
    },
    {
     "data": {
      "image/png": "[encoded data removed]",
      "text/plain": [
       "<Figure size 432x288 with 1 Axes>"
      ]
     },
     "metadata": {
      "needs_background": "light"
     },
     "output_type": "display_data"
    }
   ],
   "source": [
    "'''\n",
    "<Training Pipeline>\n",
    "[1] Prepare Data\n",
    "[2] Model\n",
    "[3] Loss/Optimizer\n",
    "[4] Training Loop\n",
    "'''\n",
    "# Hyperparameters\n",
    "learning_rate = 0.01\n",
    "num_epochs = 15000\n",
    "\n",
    "# [1] Prepare Data\n",
    "X_numpy, Y_numpy = datasets.make_regression(n_samples=100, n_features=1, noise=20, random_state=1)\n",
    "\n",
    "X = torch.from_numpy(X_numpy.astype(np.float32))\n",
    "Y = torch.from_numpy(Y_numpy.astype(np.float32))\n",
    "\n",
    "Y = Y.unsqueeze(1)\n",
    "\n",
    "n_samples, n_features = X.shape\n",
    "\n",
    "input_size = n_features\n",
    "output_size = 1\n",
    "\n",
    "# [1] Model\n",
    "model = nn.Sequential(\n",
    "    nn.Linear(input_size, output_size)\n",
    ")\n",
    "\n",
    "# [2] Loss/Optimizer\n",
    "loss_fn = nn.MSELoss()\n",
    "optimizer = torch.optim.Adam(model.parameters(), lr=learning_rate)\n",
    "\n",
    "# [3] Training Loop\n",
    "for epoch in range(num_epochs):\n",
    "    # Forwardprop\n",
    "    Y_pred = model(X)\n",
    "    \n",
    "    # Calculate Loss\n",
    "    loss = loss_fn(Y, Y_pred)\n",
    "    \n",
    "    # Backwardprop\n",
    "    loss.backward()\n",
    "    \n",
    "    # Gradient Descent\n",
    "    optimizer.step()\n",
    "    \n",
    "    # Zero-out gradients\n",
    "    optimizer.zero_grad()\n",
    "    \n",
    "    if epoch % 1000 == 0:\n",
    "        print(f\"epoch {epoch}| Loss: {loss}\")\n",
    "    \n",
    "\n",
    "predicted = model(X).detach().numpy()\n",
    "plt.plot(X_numpy, Y_numpy, 'ro')\n",
    "plt.plot(X_numpy, predicted, 'b')\n",
    "plt.show()"
   ]
  },
  {
   "cell_type": "markdown",
   "id": "9bc434ea",
   "metadata": {},
   "source": [
    "# <a name=\"logistic-regression\">6. Logistic Regression</a>"
   ]
  },
  {
   "cell_type": "code",
   "execution_count": 147,
   "id": "1596fdf5",
   "metadata": {},
   "outputs": [
    {
     "name": "stdout",
     "output_type": "stream",
     "text": [
      "X shape: (569, 30)\n",
      "epoch 0| Loss: 0.476\n",
      "epoch 1000| Loss: 0.025\n",
      "epoch 2000| Loss: 0.018\n",
      "epoch 3000| Loss: 0.013\n",
      "epoch 4000| Loss: 0.009\n",
      "epoch 5000| Loss: 0.005\n",
      "epoch 6000| Loss: 0.003\n",
      "epoch 7000| Loss: 0.002\n",
      "epoch 8000| Loss: 0.001\n",
      "epoch 9000| Loss: 0.001\n",
      "epoch 10000| Loss: 0.001\n",
      "accuracy: 0.9649122953414917\n"
     ]
    }
   ],
   "source": [
    "from sklearn.preprocessing import StandardScaler\n",
    "from sklearn.model_selection import train_test_split\n",
    "\n",
    "# Hyperparameters\n",
    "learning_rate = 0.01\n",
    "num_epochs = 10000\n",
    "\n",
    "# [1] Prepare Data\n",
    "bc = datasets.load_breast_cancer()\n",
    "X, Y = bc.data, bc.target\n",
    "\n",
    "n_samples, n_features = X.shape\n",
    "print(\"X shape:\",X.shape)\n",
    "\n",
    "### Train/Test Split\n",
    "X_train, X_test, Y_train, Y_test = train_test_split(X, Y, test_size=0.2, random_state=1234)\n",
    "\n",
    "### Scale\n",
    "sc = StandardScaler()\n",
    "X_train = sc.fit_transform(X_train)\n",
    "X_test = sc.transform(X_test)\n",
    "\n",
    "### Convert numpy to torch\n",
    "X_train = torch.from_numpy(X_train.astype(np.float32))\n",
    "X_test = torch.from_numpy(X_test.astype(np.float32))\n",
    "Y_train = torch.from_numpy(Y_train.astype(np.float32))\n",
    "Y_test = torch.from_numpy(Y_test.astype(np.float32))\n",
    "\n",
    "### Fit data shape\n",
    "Y_train = Y_train.unsqueeze(1)\n",
    "Y_test = Y_test.unsqueeze(1)\n",
    "\n",
    "# [2] Model\n",
    "class LogisticRegression(nn.Module):\n",
    "    def __init__(self, in_features):\n",
    "        super(LogisticRegression, self).__init__()\n",
    "        \n",
    "        self.linear1 = nn.Linear(in_features, 1)\n",
    "        self.sigmoid = nn.Sigmoid()\n",
    "    \n",
    "    def forward(self, x):\n",
    "        return self.sigmoid(self.linear1(x))\n",
    "\n",
    "model = LogisticRegression(n_features)\n",
    "\n",
    "# [3] Loss/Optimizer\n",
    "loss_fn = nn.BCELoss() # Binary Cross Entropy Loss\n",
    "optimizer = torch.optim.Adam(model.parameters(), lr = learning_rate)\n",
    "\n",
    "# [4] Training Loop\n",
    "for epoch in range(num_epochs+1):\n",
    "    Y_pred = model(X_train)\n",
    "    loss = loss_fn(Y_pred, Y_train)\n",
    "    loss.backward()\n",
    "    optimizer.step()\n",
    "    optimizer.zero_grad()\n",
    "    \n",
    "    if epoch % 1000 == 0:\n",
    "        print(f\"epoch {epoch}| Loss: {loss.item():.3f}\")\n",
    "\n",
    "# [5] Accuracy\n",
    "with torch.no_grad():\n",
    "    y_pred = model(X_test)\n",
    "    y_pred_classes = (y_pred > 0.5) # or y_predicted.round()\n",
    "    accuracy = (y_pred_classes == Y_test).sum() / float(Y_test.shape[0])\n",
    "    print(\"accuracy:\", accuracy.item())"
   ]
  },
  {
   "cell_type": "markdown",
   "id": "907f0a9d",
   "metadata": {},
   "source": [
    "# <a name=\"dataset-dataloader\">7. Dataset and Dataloader</a>"
   ]
  },
  {
   "cell_type": "code",
   "execution_count": 148,
   "id": "34809efc",
   "metadata": {},
   "outputs": [],
   "source": [
    "import torchvision\n",
    "from torch.utils.data import Dataset, DataLoader\n",
    "import math"
   ]
  },
  {
   "cell_type": "markdown",
   "id": "8db53aba",
   "metadata": {},
   "source": [
    "## <a name=\"dataset\">7.1 Dataset</a>"
   ]
  },
  {
   "cell_type": "code",
   "execution_count": 171,
   "id": "97e4b3e4",
   "metadata": {},
   "outputs": [],
   "source": [
    "class WineDataset(Dataset):\n",
    "    def __init__(self):\n",
    "        # dataloading\n",
    "        xy = np.loadtxt('./test_data/wine/wine.csv', delimiter=',', dtype=np.float32, skiprows=1)\n",
    "        self.x = torch.from_numpy(xy[:, 1:])\n",
    "        self.y = torch.from_numpy(xy[:, [0]]) # (n_samples, 1)\n",
    "        self.n_samples = xy.shape[0]\n",
    "        \n",
    "    def __getitem__(self, index):\n",
    "        # dataset[index]\n",
    "        return self.x[index], self.y[index] # return a tuple\n",
    "        \n",
    "    def __len__(self):\n",
    "        # len(dataset)\n",
    "        return self.n_samples\n",
    "\n",
    "dataset = WineDataset()"
   ]
  },
  {
   "cell_type": "markdown",
   "id": "1ecacc54",
   "metadata": {},
   "source": [
    "### Quick Look at custom dataset"
   ]
  },
  {
   "cell_type": "code",
   "execution_count": 170,
   "id": "afe68f46",
   "metadata": {},
   "outputs": [
    {
     "name": "stdout",
     "output_type": "stream",
     "text": [
      "(178, 14)\n",
      "Dataset Length: 178\n",
      "Each element of dataset is: <class 'tuple'>\n"
     ]
    }
   ],
   "source": [
    "xy = np.loadtxt('./test_data/wine/wine.csv', delimiter=',', dtype=np.float32, skiprows=1)\n",
    "print(xy.shape) # Both X and Y\n",
    "dataset = WineDataset()\n",
    "print(f\"Dataset Length: {len(dataset)}\")\n",
    "print(\"Each element of dataset is:\",type(dataset[0]))"
   ]
  },
  {
   "cell_type": "markdown",
   "id": "e705defd",
   "metadata": {},
   "source": [
    "## <a name=\"dataloader\">7.2 Dataloader</a>"
   ]
  },
  {
   "cell_type": "code",
   "execution_count": 196,
   "id": "b70bd41a",
   "metadata": {},
   "outputs": [
    {
     "name": "stdout",
     "output_type": "stream",
     "text": [
      "1st batch X: torch.Size([4, 13])\n",
      "1st batch Y: torch.Size([4, 1])\n"
     ]
    }
   ],
   "source": [
    "dataset = WineDataset()\n",
    "dataloader = DataLoader(dataset=dataset, batch_size=4, shuffle=True, drop_last=True)\n",
    "\n",
    "# iterator\n",
    "data_iter = iter(dataloader)\n",
    "first_batch = data_iter.next()\n",
    "\n",
    "print(\"1st batch X:\",data[0].shape)\n",
    "print(\"1st batch Y:\",data[1].shape)"
   ]
  },
  {
   "cell_type": "markdown",
   "id": "64771df8",
   "metadata": {},
   "source": [
    "### Training Loop using dataset/dataloader"
   ]
  },
  {
   "cell_type": "code",
   "execution_count": 207,
   "id": "020f8c15",
   "metadata": {},
   "outputs": [
    {
     "name": "stdout",
     "output_type": "stream",
     "text": [
      "X in each batch: torch.Size([4, 13])\n",
      "Y in each batch: torch.Size([4, 1])\n"
     ]
    }
   ],
   "source": [
    "# Hyperparameters\n",
    "num_epochs = 2\n",
    "total_samples = len(dataset)\n",
    "n_iterations = math.floor(total_samples / 4)\n",
    "\n",
    "\n",
    "for epoch in range(num_epochs):\n",
    "    for batch_idx, (x, y) in enumerate(dataloader):\n",
    "        # forwardprop \n",
    "        # loss\n",
    "        # backprop\n",
    "        # gradient descent\n",
    "        if(epoch == 0 and batch_idx == 0):\n",
    "            print(\"X in each batch:\",x.shape)\n",
    "            print(\"Y in each batch:\",y.shape)"
   ]
  },
  {
   "cell_type": "markdown",
   "id": "025f82ac",
   "metadata": {},
   "source": [
    "## <a name=\"torchvision-datasets\">7.3 torchvision datasets - mnist, coco, cifar, ...</a>"
   ]
  },
  {
   "cell_type": "markdown",
   "id": "296746f0",
   "metadata": {},
   "source": [
    "### torchvision datasets\n",
    "\n",
    "##### MNIST, coco, cifar, ...."
   ]
  },
  {
   "cell_type": "code",
   "execution_count": 212,
   "id": "6b4cdc6f",
   "metadata": {},
   "outputs": [],
   "source": [
    "import torchvision.datasets as datasets\n",
    "import torchvision.transforms as transforms\n",
    "batch_size = 64\n",
    "\n",
    "train_dataset = datasets.MNIST(root='datasets/', train=True, transform=transforms.ToTensor(), download=True)\n",
    "train_loader = DataLoader(dataset=train_dataset, batch_size=batch_size, shuffle=True)\n",
    "\n",
    "test_dataset = datasets.MNIST(root='datasets/', train=False, transform=transforms.ToTensor(), download=True)\n",
    "test_loader = DataLoader(dataset=test_dataset, batch_size=batch_size, shuffle=True)"
   ]
  },
  {
   "cell_type": "markdown",
   "id": "ae321d72",
   "metadata": {},
   "source": [
    "# <a name=\"dataset-transforms\">8. Dataset Transforms</a>"
   ]
  },
  {
   "cell_type": "code",
   "execution_count": 255,
   "id": "eae19ba8",
   "metadata": {},
   "outputs": [],
   "source": [
    "class WineDataset(Dataset):\n",
    "    def __init__(self, transform=None):\n",
    "        # dataloading\n",
    "        xy = np.loadtxt('./test_data/wine/wine.csv', delimiter=',', dtype=np.float32, skiprows=1)\n",
    "        \n",
    "        # Note that we didn't convert numpy to tensor here unlike above\\\n",
    "        self.x = x[:, 1:].numpy()\n",
    "        self.y = y[:, 0:1].numpy()\n",
    "        \n",
    "        self.transform = transform\n",
    "        \n",
    "        self.n_samples = xy.shape[0]\n",
    "        \n",
    "    def __getitem__(self, index):\n",
    "        # dataset[index]\n",
    "        sample = self.x[index], self.y[index] # return a tuple\n",
    "        \n",
    "        if self.transform:\n",
    "            sample = self.transform(sample)\n",
    "        \n",
    "        return sample\n",
    "        \n",
    "    def __len__(self):\n",
    "        # len(dataset)\n",
    "        return self.n_samples\n",
    "\n",
    "dataset = WineDataset()"
   ]
  },
  {
   "cell_type": "markdown",
   "id": "bb143c95",
   "metadata": {},
   "source": [
    "### ToTensor: numpy -> tensor"
   ]
  },
  {
   "cell_type": "markdown",
   "id": "2b7ae5c8",
   "metadata": {},
   "source": [
    "#### Without ToTensor Transform"
   ]
  },
  {
   "cell_type": "code",
   "execution_count": 260,
   "id": "f1d873af",
   "metadata": {
    "scrolled": true
   },
   "outputs": [
    {
     "name": "stdout",
     "output_type": "stream",
     "text": [
      "<class 'torch.Tensor'>\n",
      "<class 'torch.Tensor'>\n"
     ]
    }
   ],
   "source": [
    "first_data = dataset[0]\n",
    "\n",
    "features, labels = first_data\n",
    "\n",
    "print(type(features))\n",
    "print(type(labels))"
   ]
  },
  {
   "cell_type": "markdown",
   "id": "1cff66bd",
   "metadata": {},
   "source": [
    "#### With ToTensor Transform"
   ]
  },
  {
   "cell_type": "code",
   "execution_count": 261,
   "id": "fe86d62d",
   "metadata": {},
   "outputs": [],
   "source": [
    "class ToTensor:\n",
    "    def __call__(self, sample):\n",
    "        # sample - callable object\n",
    "        inputs, targets = sample\n",
    "        return torch.from_numpy(inputs), torch.from_numpy(targets)"
   ]
  },
  {
   "cell_type": "code",
   "execution_count": 262,
   "id": "85b177da",
   "metadata": {},
   "outputs": [],
   "source": [
    "dataset = WineDataset(transform=ToTensor())"
   ]
  },
  {
   "cell_type": "code",
   "execution_count": 263,
   "id": "543ef9e6",
   "metadata": {},
   "outputs": [
    {
     "name": "stdout",
     "output_type": "stream",
     "text": [
      "<class 'torch.Tensor'>\n",
      "<class 'torch.Tensor'>\n"
     ]
    }
   ],
   "source": [
    "first_data = dataset[0]\n",
    "\n",
    "features, labels = first_data\n",
    "\n",
    "print(type(features))\n",
    "print(type(labels))"
   ]
  },
  {
   "cell_type": "markdown",
   "id": "a791ebab",
   "metadata": {},
   "source": [
    "### Compose Transforms"
   ]
  },
  {
   "cell_type": "code",
   "execution_count": 268,
   "id": "f5ddb91f",
   "metadata": {},
   "outputs": [],
   "source": [
    "import torchvision.transforms as transforms\n",
    "\n",
    "class MulTransform:\n",
    "    def __init__(self, factor):\n",
    "        self.factor = factor\n",
    "    \n",
    "    def __call__(self, sample):\n",
    "        inputs, targets = sample\n",
    "        inputs *= self.factor\n",
    "        return inputs, targets"
   ]
  },
  {
   "cell_type": "code",
   "execution_count": 269,
   "id": "be0840f8",
   "metadata": {},
   "outputs": [],
   "source": [
    "my_transforms = transforms.Compose([\n",
    "    ToTensor(),\n",
    "    MulTransform(2)\n",
    "])\n",
    "\n",
    "dataset = WineDataset(transform=my_transforms)"
   ]
  },
  {
   "cell_type": "code",
   "execution_count": 270,
   "id": "06f00590",
   "metadata": {},
   "outputs": [
    {
     "name": "stdout",
     "output_type": "stream",
     "text": [
      "<class 'torch.Tensor'>\n",
      "<class 'torch.Tensor'>\n"
     ]
    }
   ],
   "source": [
    "first_data = dataset[0]\n",
    "\n",
    "features, labels = first_data\n",
    "\n",
    "print(type(features))\n",
    "print(type(labels))"
   ]
  },
  {
   "cell_type": "markdown",
   "id": "d3543751",
   "metadata": {},
   "source": [
    "# <a name=\"softmas-crossentropy\">9. Softmax and Cross-Entropy</a>"
   ]
  },
  {
   "cell_type": "markdown",
   "id": "2cf986f1",
   "metadata": {},
   "source": [
    "### Softmax"
   ]
  },
  {
   "cell_type": "code",
   "execution_count": 4,
   "id": "dcbd8462",
   "metadata": {},
   "outputs": [
    {
     "name": "stdout",
     "output_type": "stream",
     "text": [
      "softmax numpy: [0.65900114 0.24243297 0.09856589]\n",
      "tensor([0.6590, 0.2424, 0.0986])\n"
     ]
    }
   ],
   "source": [
    "def softmax(x):\n",
    "    return np.exp(x) / np.sum(np.exp(x), axis = 0)\n",
    "\n",
    "x = np.array([2.0, 1.0, 0.1])\n",
    "output = softmax(x)\n",
    "print('softmax numpy:', output)\n",
    "\n",
    "x = torch.tensor([2.0, 1.0, 0.1])\n",
    "output = torch.softmax(x, dim = 0)\n",
    "print(output)"
   ]
  },
  {
   "cell_type": "markdown",
   "id": "949ad869",
   "metadata": {},
   "source": [
    "### Cross-Entropy\n",
    "\n",
    "#### D(Y_hat, Y) = -(1/N) * sum(Y, log(Y_hat))\n",
    "### [WARNING] \n",
    "* nn.CrossEntropyLoss already applied softmax - we must not implement softmax on our own!\n",
    "* Y has class labels, not ONE-HOT!\n",
    "* Y_pred has raw scores (logits), no Softmax!"
   ]
  },
  {
   "cell_type": "code",
   "execution_count": 20,
   "id": "250713c1",
   "metadata": {},
   "outputs": [
    {
     "name": "stdout",
     "output_type": "stream",
     "text": [
      "Loss1 numpy: 0.3567\n",
      "Loss2 numpy: 2.3026\n",
      "--------------------------------------------------\n",
      "Loss1 torch: 0.3018\n",
      "Loss2 torch: 1.6242\n",
      "tensor([2, 0, 1])\n",
      "tensor([0, 2, 1])\n"
     ]
    }
   ],
   "source": [
    "def cross_entropy(y, y_hat):\n",
    "    loss = -np.sum(y * np.log(y_hat))\n",
    "    return loss\n",
    "\n",
    "Y = np.array([1, 0, 0])\n",
    "\n",
    "y_hat_good = np.array([0.7, 0.2, 0.1])\n",
    "y_hat_bad = np.array([0.1, 0.3, 0.6])\n",
    "l1 = cross_entropy(Y, y_hat_good)\n",
    "l2 = cross_entropy(Y, y_hat_bad)\n",
    "\n",
    "print(f\"Loss1 numpy: {l1:.4f}\")\n",
    "print(f\"Loss2 numpy: {l2:.4f}\")\n",
    "\n",
    "print(\"-\"*50)\n",
    "\n",
    "###### PYTORCH ########\n",
    "\n",
    "# 3 samples \n",
    "Y = torch.tensor([2, 0, 1]) # only put correct class labels, not one-hot encoded / (nsamples x nclasses)\n",
    "\n",
    "# n_samples x n_classes = 3 x 3\n",
    "Y_pred_good = torch.tensor([[0.1, 1.0, 2.1],[2.0, 1.0, 0.1],[0.1, 3.0, 0.1]]) # raw value -> no softmax!\n",
    "Y_pred_bad = torch.tensor([[2.1, 1.0, 0.1],[0.1, 1.0, 2.1],[0.1, 3.0, 0.1]])\n",
    "\n",
    "loss = nn.CrossEntropyLoss()\n",
    "\n",
    "l1 = loss(Y_pred_good, Y)\n",
    "l2 = loss(Y_pred_bad, Y)\n",
    "\n",
    "print(f\"Loss1 torch: {l1.item():.4f}\")\n",
    "print(f\"Loss2 torch: {l2.item():.4f}\")\n",
    "\n",
    "_, pred1 = torch.max(Y_pred_good, dim=1)\n",
    "_, pred2 = torch.max(Y_pred_bad, dim=1)\n",
    "\n",
    "print(pred1)\n",
    "print(pred2)\n"
   ]
  },
  {
   "cell_type": "markdown",
   "id": "626b9a66",
   "metadata": {},
   "source": [
    "# <a name=\"feedforward-net\">10. Feed Forward Net</a>"
   ]
  },
  {
   "cell_type": "code",
   "execution_count": 118,
   "id": "2d32e7c6",
   "metadata": {},
   "outputs": [],
   "source": [
    "# Device Config\n",
    "device = torch.device('cuda' if torch.cuda.is_available() else 'cpu')\n",
    "\n",
    "# Hyperparameters\n",
    "input_size = 784\n",
    "hidden_size = 100\n",
    "num_classes = 10\n",
    "num_epochs = 10\n",
    "batch_size = 512\n",
    "learning_rate = 0.001\n",
    "\n",
    "# Dataset\n",
    "train_dataset = torchvision.datasets.MNIST(root='./data', train=True, transform=transforms.ToTensor(), download=True)\n",
    "test_dataset = torchvision.datasets.MNIST(root='./data', train=False, transform=transforms.ToTensor(), download=False)\n",
    "\n",
    "train_loader = DataLoader(dataset=train_dataset, batch_size=batch_size, shuffle=True, drop_last = True)\n",
    "test_loader = DataLoader(dataset=test_dataset, batch_size=batch_size, shuffle=False, drop_last = True)"
   ]
  },
  {
   "cell_type": "code",
   "execution_count": 119,
   "id": "be6e8970",
   "metadata": {
    "scrolled": true
   },
   "outputs": [
    {
     "name": "stdout",
     "output_type": "stream",
     "text": [
      "torch.Size([512, 1, 28, 28])\n",
      "torch.Size([512])\n"
     ]
    },
    {
     "data": {
      "image/png": "[encoded data removed]",
      "text/plain": [
       "<Figure size 432x288 with 6 Axes>"
      ]
     },
     "metadata": {
      "needs_background": "light"
     },
     "output_type": "display_data"
    }
   ],
   "source": [
    "examples = iter(train_loader)\n",
    "samples, labels = examples.next()\n",
    "print(samples.shape)\n",
    "print(labels.shape)\n",
    "\n",
    "for i in range(6):\n",
    "    plt.subplot(2,3,i+1)\n",
    "    plt.imshow(samples[i][0], cmap='gray')\n",
    "\n",
    "plt.show()"
   ]
  },
  {
   "cell_type": "code",
   "execution_count": 120,
   "id": "e7a80a5c",
   "metadata": {},
   "outputs": [],
   "source": [
    "class NeuralNet(nn.Module):\n",
    "    def __init__(self, input_size, hidden_size, num_classes):\n",
    "        super(NeuralNet, self).__init__()\n",
    "        \n",
    "        self.l1 = nn.Linear(input_size, hidden_size)\n",
    "        self.relu = nn.ReLU()\n",
    "        self.l2 = nn.Linear(hidden_size, num_classes)\n",
    "        \n",
    "    def forward(self, x):\n",
    "        out = self.l1(x)\n",
    "        out = self.relu(out)\n",
    "        out = self.l2(out)\n",
    "        return out"
   ]
  },
  {
   "cell_type": "code",
   "execution_count": 121,
   "id": "9f43a490",
   "metadata": {},
   "outputs": [],
   "source": [
    "model = NeuralNet(input_size, hidden_size, num_classes)"
   ]
  },
  {
   "cell_type": "code",
   "execution_count": 122,
   "id": "5d7bca72",
   "metadata": {},
   "outputs": [],
   "source": [
    "loss_fn = nn.CrossEntropyLoss()\n",
    "optimizer = torch.optim.Adam(model.parameters(), lr=learning_rate)"
   ]
  },
  {
   "cell_type": "code",
   "execution_count": 123,
   "id": "f84d3acc",
   "metadata": {
    "scrolled": false
   },
   "outputs": [
    {
     "name": "stdout",
     "output_type": "stream",
     "text": [
      "epoch0| loss:2.2924070358276367\n",
      "epoch0| loss:0.31495508551597595\n",
      "epoch1| loss:0.2921135425567627\n",
      "epoch1| loss:0.29330411553382874\n",
      "epoch2| loss:0.228903129696846\n",
      "epoch2| loss:0.20731891691684723\n",
      "epoch3| loss:0.22773289680480957\n",
      "epoch3| loss:0.16507260501384735\n",
      "epoch4| loss:0.15580104291439056\n",
      "epoch4| loss:0.15195779502391815\n",
      "epoch5| loss:0.17612873017787933\n",
      "epoch5| loss:0.17884905636310577\n",
      "epoch6| loss:0.1344349980354309\n",
      "epoch6| loss:0.12804560363292694\n",
      "epoch7| loss:0.13447771966457367\n",
      "epoch7| loss:0.12602375447750092\n",
      "epoch8| loss:0.09830492734909058\n",
      "epoch8| loss:0.09955698251724243\n",
      "epoch9| loss:0.11981098353862762\n",
      "epoch9| loss:0.09619618207216263\n"
     ]
    }
   ],
   "source": [
    "n_total_steps = len(train_loader)\n",
    "\n",
    "for epoch in range(num_epochs):\n",
    "    for batch_idx, (x, y) in enumerate(train_loader):\n",
    "        x = x.reshape(-1, 28*28).to(device)\n",
    "        # y = shape(64), NO one-hot encoding! just leave as it is\n",
    "        \n",
    "        #forward\n",
    "        y_pred = model(x)\n",
    "        \n",
    "        #loss\n",
    "        loss = loss_fn(y_pred, y)\n",
    "        \n",
    "        #backward\n",
    "        loss.backward()\n",
    "        \n",
    "        #gradient descent\n",
    "        optimizer.step()\n",
    "        \n",
    "        #zero gradients\n",
    "        optimizer.zero_grad()\n",
    "        if batch_idx % 100 == 0:\n",
    "            print(f\"epoch{epoch}| loss:{loss.item()}\")"
   ]
  },
  {
   "cell_type": "code",
   "execution_count": 91,
   "id": "f91a3d6c",
   "metadata": {
    "scrolled": true
   },
   "outputs": [
    {
     "name": "stdout",
     "output_type": "stream",
     "text": [
      "accuracy: 97.12\n"
     ]
    }
   ],
   "source": [
    "with torch.no_grad():\n",
    "    n_correct = 0\n",
    "    n_samples = 0\n",
    "    \n",
    "    for x, y in test_loader:\n",
    "        x = x.reshape(-1, 28*28).to(device)\n",
    "        y = y.to(device)\n",
    "        y_pred = model(x)\n",
    "        \n",
    "        _, predictions = torch.max(y_pred, dim=1)\n",
    "        n_samples += y.shape[0]\n",
    "        n_correct += (predictions == y).sum().item()\n",
    "        \n",
    "    accuracy = 100.0 * n_correct / n_samples\n",
    "    print(f\"accuracy: {accuracy}\")"
   ]
  },
  {
   "cell_type": "markdown",
   "id": "14cd712c",
   "metadata": {},
   "source": [
    "# <a name=\"cnn\">11. CNN</a>"
   ]
  },
  {
   "cell_type": "code",
   "execution_count": 150,
   "id": "a93d70e5",
   "metadata": {
    "scrolled": true
   },
   "outputs": [
    {
     "name": "stdout",
     "output_type": "stream",
     "text": [
      "Files already downloaded and verified\n",
      "Files already downloaded and verified\n"
     ]
    }
   ],
   "source": [
    "#Hyperparameters\n",
    "device = torch.device('cuda' if torch.cuda.is_available() else 'cpu')\n",
    "num_epochs = 100\n",
    "batch_size = 64\n",
    "learning_rate = 0.01\n",
    "\n",
    "my_transform = transforms.Compose([\n",
    "    transforms.ToTensor(),\n",
    "    transforms.Normalize((0.5, 0.5, 0.5), (0.5, 0.5, 0.5))\n",
    "])\n",
    "\n",
    "train_dataset = torchvision.datasets.CIFAR10(root='./data', train=True, download=True, transform=my_transform)\n",
    "test_dataset = torchvision.datasets.CIFAR10(root='./data', train=False, download=True, transform=my_transform)\n",
    "train_loader = DataLoader(dataset=train_dataset, batch_size=batch_size, shuffle=True, drop_last=True)\n",
    "test_loader = DataLoader(dataset=test_dataset, batch_size=batch_size, shuffle=True, drop_last=True)\n",
    "\n",
    "classes = ('plane', 'car', 'bird', 'cat', 'deer', 'dog', 'frog', 'horse', 'ship', 'truck')"
   ]
  },
  {
   "cell_type": "code",
   "execution_count": 151,
   "id": "c78daa4f",
   "metadata": {},
   "outputs": [
    {
     "name": "stdout",
     "output_type": "stream",
     "text": [
      "torch.Size([64, 3, 32, 32])\n",
      "torch.Size([64])\n"
     ]
    }
   ],
   "source": [
    "example = iter(train_loader)\n",
    "samples, labels = example.next()\n",
    "print(samples.shape)\n",
    "print(labels.shape)"
   ]
  },
  {
   "cell_type": "markdown",
   "id": "5e5547a8",
   "metadata": {},
   "source": [
    "### Model"
   ]
  },
  {
   "cell_type": "code",
   "execution_count": 152,
   "id": "75dcfe0b",
   "metadata": {},
   "outputs": [],
   "source": [
    "class CNN(nn.Module):\n",
    "    def __init__(self):\n",
    "        super(CNN, self).__init__()\n",
    "        self.conv1 = nn.Conv2d(3, 6, 5)\n",
    "        self.pool = nn.MaxPool2d(2, 2)\n",
    "        self.conv2 = nn.Conv2d(6, 16, 5)\n",
    "        self.fc1 = nn.Linear(16*5*5, 120)\n",
    "        self.fc2 = nn.Linear(120, 84)\n",
    "        self.fc3 = nn.Linear(84, 10)\n",
    "\n",
    "    def forward(self, x):\n",
    "        x = self.pool(F.relu(self.conv1(x)))\n",
    "        x = self.pool(F.relu(self.conv2(x)))\n",
    "        x = x.reshape(-1, 16*5*5)\n",
    "        x = F.relu(self.fc1(x))\n",
    "        x = F.relu(self.fc2(x))\n",
    "        x = self.fc3(x) # No Activation or Softmax cuz Cross-Entropy already includes them\n",
    "        return x\n",
    "        \n",
    "model = CNN().to(device)"
   ]
  },
  {
   "cell_type": "markdown",
   "id": "d87626b4",
   "metadata": {},
   "source": [
    "### Loss / Optimizer"
   ]
  },
  {
   "cell_type": "code",
   "execution_count": 153,
   "id": "180315b4",
   "metadata": {},
   "outputs": [],
   "source": [
    "loss_fn = nn.CrossEntropyLoss()\n",
    "optimizer = torch.optim.SGD(model.parameters(), lr=learning_rate)"
   ]
  },
  {
   "cell_type": "markdown",
   "id": "491cc9cd",
   "metadata": {},
   "source": [
    "### Training"
   ]
  },
  {
   "cell_type": "code",
   "execution_count": 154,
   "id": "02825684",
   "metadata": {
    "scrolled": false
   },
   "outputs": [
    {
     "name": "stdout",
     "output_type": "stream",
     "text": [
      "epoch0| Loss:2.3194258213043213\n",
      "epoch1| Loss:2.2163162231445312\n",
      "epoch2| Loss:1.9535205364227295\n",
      "epoch3| Loss:2.016279458999634\n",
      "epoch4| Loss:1.6039097309112549\n",
      "epoch5| Loss:1.461698293685913\n",
      "epoch6| Loss:1.566805124282837\n",
      "epoch7| Loss:1.2426338195800781\n",
      "epoch8| Loss:1.7180901765823364\n",
      "epoch9| Loss:1.3615368604660034\n",
      "epoch10| Loss:1.448979377746582\n",
      "epoch11| Loss:1.4639530181884766\n",
      "epoch12| Loss:1.2979403734207153\n",
      "epoch13| Loss:1.0745251178741455\n",
      "epoch14| Loss:1.0791819095611572\n",
      "epoch15| Loss:1.0769681930541992\n",
      "epoch16| Loss:1.0116138458251953\n",
      "epoch17| Loss:1.2534679174423218\n",
      "epoch18| Loss:1.0635095834732056\n",
      "epoch19| Loss:1.1331738233566284\n",
      "epoch20| Loss:1.129142165184021\n",
      "epoch21| Loss:1.069625735282898\n",
      "epoch22| Loss:1.3173127174377441\n",
      "epoch23| Loss:1.0502465963363647\n",
      "epoch24| Loss:0.854570746421814\n",
      "epoch25| Loss:1.045387864112854\n",
      "epoch26| Loss:1.1977635622024536\n",
      "epoch27| Loss:0.8352165818214417\n",
      "epoch28| Loss:1.040642261505127\n",
      "epoch29| Loss:1.031670093536377\n",
      "epoch30| Loss:0.8199904561042786\n",
      "epoch31| Loss:0.9812594056129456\n",
      "epoch32| Loss:0.7883741855621338\n",
      "epoch33| Loss:0.8085212707519531\n",
      "epoch34| Loss:0.764972984790802\n",
      "epoch35| Loss:1.0784698724746704\n",
      "epoch36| Loss:0.5936248898506165\n",
      "epoch37| Loss:0.7702489495277405\n",
      "epoch38| Loss:0.89811110496521\n",
      "epoch39| Loss:0.8258076310157776\n",
      "epoch40| Loss:0.8706024289131165\n",
      "epoch41| Loss:1.0009843111038208\n",
      "epoch42| Loss:0.718536376953125\n"
     ]
    },
    {
     "ename": "KeyboardInterrupt",
     "evalue": "",
     "output_type": "error",
     "traceback": [
      "\u001b[0;31m---------------------------------------------------------------------------\u001b[0m",
      "\u001b[0;31mKeyboardInterrupt\u001b[0m                         Traceback (most recent call last)",
      "\u001b[0;32m/var/folders/cp/hj2ty6s546gg413qfzt3915h0000gn/T/ipykernel_71404/3977956893.py\u001b[0m in \u001b[0;36m<module>\u001b[0;34m\u001b[0m\n\u001b[1;32m      8\u001b[0m         \u001b[0moptimizer\u001b[0m\u001b[0;34m.\u001b[0m\u001b[0mzero_grad\u001b[0m\u001b[0;34m(\u001b[0m\u001b[0;34m)\u001b[0m\u001b[0;34m\u001b[0m\u001b[0;34m\u001b[0m\u001b[0m\n\u001b[1;32m      9\u001b[0m \u001b[0;34m\u001b[0m\u001b[0m\n\u001b[0;32m---> 10\u001b[0;31m         \u001b[0mloss\u001b[0m\u001b[0;34m.\u001b[0m\u001b[0mbackward\u001b[0m\u001b[0;34m(\u001b[0m\u001b[0;34m)\u001b[0m\u001b[0;34m\u001b[0m\u001b[0;34m\u001b[0m\u001b[0m\n\u001b[0m\u001b[1;32m     11\u001b[0m         \u001b[0moptimizer\u001b[0m\u001b[0;34m.\u001b[0m\u001b[0mstep\u001b[0m\u001b[0;34m(\u001b[0m\u001b[0;34m)\u001b[0m\u001b[0;34m\u001b[0m\u001b[0;34m\u001b[0m\u001b[0m\n\u001b[1;32m     12\u001b[0m \u001b[0;34m\u001b[0m\u001b[0m\n",
      "\u001b[0;32m~/opt/anaconda3/lib/python3.9/site-packages/torch/_tensor.py\u001b[0m in \u001b[0;36mbackward\u001b[0;34m(self, gradient, retain_graph, create_graph, inputs)\u001b[0m\n\u001b[1;32m    305\u001b[0m                 \u001b[0mcreate_graph\u001b[0m\u001b[0;34m=\u001b[0m\u001b[0mcreate_graph\u001b[0m\u001b[0;34m,\u001b[0m\u001b[0;34m\u001b[0m\u001b[0;34m\u001b[0m\u001b[0m\n\u001b[1;32m    306\u001b[0m                 inputs=inputs)\n\u001b[0;32m--> 307\u001b[0;31m         \u001b[0mtorch\u001b[0m\u001b[0;34m.\u001b[0m\u001b[0mautograd\u001b[0m\u001b[0;34m.\u001b[0m\u001b[0mbackward\u001b[0m\u001b[0;34m(\u001b[0m\u001b[0mself\u001b[0m\u001b[0;34m,\u001b[0m \u001b[0mgradient\u001b[0m\u001b[0;34m,\u001b[0m \u001b[0mretain_graph\u001b[0m\u001b[0;34m,\u001b[0m \u001b[0mcreate_graph\u001b[0m\u001b[0;34m,\u001b[0m \u001b[0minputs\u001b[0m\u001b[0;34m=\u001b[0m\u001b[0minputs\u001b[0m\u001b[0;34m)\u001b[0m\u001b[0;34m\u001b[0m\u001b[0;34m\u001b[0m\u001b[0m\n\u001b[0m\u001b[1;32m    308\u001b[0m \u001b[0;34m\u001b[0m\u001b[0m\n\u001b[1;32m    309\u001b[0m     \u001b[0;32mdef\u001b[0m \u001b[0mregister_hook\u001b[0m\u001b[0;34m(\u001b[0m\u001b[0mself\u001b[0m\u001b[0;34m,\u001b[0m \u001b[0mhook\u001b[0m\u001b[0;34m)\u001b[0m\u001b[0;34m:\u001b[0m\u001b[0;34m\u001b[0m\u001b[0;34m\u001b[0m\u001b[0m\n",
      "\u001b[0;32m~/opt/anaconda3/lib/python3.9/site-packages/torch/autograd/__init__.py\u001b[0m in \u001b[0;36mbackward\u001b[0;34m(tensors, grad_tensors, retain_graph, create_graph, grad_variables, inputs)\u001b[0m\n\u001b[1;32m    152\u001b[0m         \u001b[0mretain_graph\u001b[0m \u001b[0;34m=\u001b[0m \u001b[0mcreate_graph\u001b[0m\u001b[0;34m\u001b[0m\u001b[0;34m\u001b[0m\u001b[0m\n\u001b[1;32m    153\u001b[0m \u001b[0;34m\u001b[0m\u001b[0m\n\u001b[0;32m--> 154\u001b[0;31m     Variable._execution_engine.run_backward(\n\u001b[0m\u001b[1;32m    155\u001b[0m         \u001b[0mtensors\u001b[0m\u001b[0;34m,\u001b[0m \u001b[0mgrad_tensors_\u001b[0m\u001b[0;34m,\u001b[0m \u001b[0mretain_graph\u001b[0m\u001b[0;34m,\u001b[0m \u001b[0mcreate_graph\u001b[0m\u001b[0;34m,\u001b[0m \u001b[0minputs\u001b[0m\u001b[0;34m,\u001b[0m\u001b[0;34m\u001b[0m\u001b[0;34m\u001b[0m\u001b[0m\n\u001b[1;32m    156\u001b[0m         allow_unreachable=True, accumulate_grad=True)  # allow_unreachable flag\n",
      "\u001b[0;31mKeyboardInterrupt\u001b[0m: "
     ]
    }
   ],
   "source": [
    "for epoch in range(num_epochs):\n",
    "    for batch_idx, (x, y) in enumerate(train_loader):\n",
    "        x = x.to(device)\n",
    "        y = y.to(device)\n",
    "        y_pred = model(x)\n",
    "        loss = loss_fn(y_pred, y)\n",
    "        \n",
    "        optimizer.zero_grad()\n",
    "        \n",
    "        loss.backward()\n",
    "        optimizer.step()\n",
    "        \n",
    "        if batch_idx == 0:\n",
    "            print(f\"epoch{epoch}| Loss:{loss}\")\n",
    "        "
   ]
  },
  {
   "cell_type": "markdown",
   "id": "17abfbfa",
   "metadata": {},
   "source": [
    "### Testing"
   ]
  },
  {
   "cell_type": "code",
   "execution_count": 155,
   "id": "3eea35dc",
   "metadata": {},
   "outputs": [
    {
     "name": "stdout",
     "output_type": "stream",
     "text": [
      "Accuracy: 63.88221153846154\n",
      "Accuracy of plane: 68.00401203610832\n",
      "Accuracy of car: 76.02808425275828\n",
      "Accuracy of bird: 51.80360721442886\n",
      "Accuracy of cat: 41.18236472945892\n",
      "Accuracy of deer: 65.36536536536536\n",
      "Accuracy of dog: 54.154154154154156\n",
      "Accuracy of frog: 69.06906906906907\n",
      "Accuracy of horse: 69.9\n",
      "Accuracy of ship: 80.74222668004012\n",
      "Accuracy of truck: 62.6\n"
     ]
    }
   ],
   "source": [
    "with torch.no_grad():\n",
    "    n_correct = 0\n",
    "    n_samples = 0\n",
    "    n_class_correct = [0 for i in range(10)]\n",
    "    n_class_samples = [0 for i in range(10)]\n",
    "    \n",
    "    for x, y in test_loader:\n",
    "        x = x.to(device)\n",
    "        y = y.to(device)\n",
    "        y_pred = model(x)\n",
    "        \n",
    "        # max returns\n",
    "        _, predicted = torch.max(y_pred, dim=1)\n",
    "        n_samples += y.shape[0]\n",
    "        n_correct += (predicted == y).sum().item()\n",
    "        \n",
    "        for i in range(batch_size):\n",
    "            label = y[i]\n",
    "            predicted_label = predicted[i]\n",
    "            \n",
    "            if label == predicted_label:\n",
    "                n_class_correct[label] += 1\n",
    "            n_class_samples[label] += 1\n",
    "        \n",
    "    accuracy = 100.0 * n_correct / n_samples\n",
    "    print(f\"Accuracy: {accuracy}\")\n",
    "\n",
    "    for i in range(10):\n",
    "        acc = 100.0 * n_class_correct[i] / n_class_samples[i]\n",
    "        print(f\"Accuracy of {classes[i]}: {acc}\")"
   ]
  },
  {
   "cell_type": "markdown",
   "id": "85139086",
   "metadata": {},
   "source": [
    "# <a name=\"transfer-learning\">12. Transfer Learning</a>\n",
    "\n",
    "* Look up furthermore: ImageFolder, lr scheduler"
   ]
  },
  {
   "cell_type": "code",
   "execution_count": 17,
   "id": "6d40cb98",
   "metadata": {},
   "outputs": [],
   "source": [
    "from torchvision import datasets, models, transforms\n",
    "import torch.optim as optim\n",
    "from torch.optim import lr_scheduler"
   ]
  },
  {
   "cell_type": "code",
   "execution_count": 3,
   "id": "2f8a20b9",
   "metadata": {},
   "outputs": [
    {
     "name": "stderr",
     "output_type": "stream",
     "text": [
      "Downloading: \"https://download.pytorch.org/models/resnet18-f37072fd.pth\" to /Users/jasonlee/.cache/torch/hub/checkpoints/resnet18-f37072fd.pth\n"
     ]
    },
    {
     "data": {
      "application/vnd.jupyter.widget-view+json": {
       "model_id": "7595de7e92a64d9690969ed535e3b6a9",
       "version_major": 2,
       "version_minor": 0
      },
      "text/plain": [
       "  0%|          | 0.00/44.7M [00:00<?, ?B/s]"
      ]
     },
     "metadata": {},
     "output_type": "display_data"
    }
   ],
   "source": [
    "model = models.resnet18(pretrained=True)"
   ]
  },
  {
   "cell_type": "code",
   "execution_count": 5,
   "id": "fadd23ce",
   "metadata": {
    "scrolled": true
   },
   "outputs": [
    {
     "name": "stdout",
     "output_type": "stream",
     "text": [
      "ResNet(\n",
      "  (conv1): Conv2d(3, 64, kernel_size=(7, 7), stride=(2, 2), padding=(3, 3), bias=False)\n",
      "  (bn1): BatchNorm2d(64, eps=1e-05, momentum=0.1, affine=True, track_running_stats=True)\n",
      "  (relu): ReLU(inplace=True)\n",
      "  (maxpool): MaxPool2d(kernel_size=3, stride=2, padding=1, dilation=1, ceil_mode=False)\n",
      "  (layer1): Sequential(\n",
      "    (0): BasicBlock(\n",
      "      (conv1): Conv2d(64, 64, kernel_size=(3, 3), stride=(1, 1), padding=(1, 1), bias=False)\n",
      "      (bn1): BatchNorm2d(64, eps=1e-05, momentum=0.1, affine=True, track_running_stats=True)\n",
      "      (relu): ReLU(inplace=True)\n",
      "      (conv2): Conv2d(64, 64, kernel_size=(3, 3), stride=(1, 1), padding=(1, 1), bias=False)\n",
      "      (bn2): BatchNorm2d(64, eps=1e-05, momentum=0.1, affine=True, track_running_stats=True)\n",
      "    )\n",
      "    (1): BasicBlock(\n",
      "      (conv1): Conv2d(64, 64, kernel_size=(3, 3), stride=(1, 1), padding=(1, 1), bias=False)\n",
      "      (bn1): BatchNorm2d(64, eps=1e-05, momentum=0.1, affine=True, track_running_stats=True)\n",
      "      (relu): ReLU(inplace=True)\n",
      "      (conv2): Conv2d(64, 64, kernel_size=(3, 3), stride=(1, 1), padding=(1, 1), bias=False)\n",
      "      (bn2): BatchNorm2d(64, eps=1e-05, momentum=0.1, affine=True, track_running_stats=True)\n",
      "    )\n",
      "  )\n",
      "  (layer2): Sequential(\n",
      "    (0): BasicBlock(\n",
      "      (conv1): Conv2d(64, 128, kernel_size=(3, 3), stride=(2, 2), padding=(1, 1), bias=False)\n",
      "      (bn1): BatchNorm2d(128, eps=1e-05, momentum=0.1, affine=True, track_running_stats=True)\n",
      "      (relu): ReLU(inplace=True)\n",
      "      (conv2): Conv2d(128, 128, kernel_size=(3, 3), stride=(1, 1), padding=(1, 1), bias=False)\n",
      "      (bn2): BatchNorm2d(128, eps=1e-05, momentum=0.1, affine=True, track_running_stats=True)\n",
      "      (downsample): Sequential(\n",
      "        (0): Conv2d(64, 128, kernel_size=(1, 1), stride=(2, 2), bias=False)\n",
      "        (1): BatchNorm2d(128, eps=1e-05, momentum=0.1, affine=True, track_running_stats=True)\n",
      "      )\n",
      "    )\n",
      "    (1): BasicBlock(\n",
      "      (conv1): Conv2d(128, 128, kernel_size=(3, 3), stride=(1, 1), padding=(1, 1), bias=False)\n",
      "      (bn1): BatchNorm2d(128, eps=1e-05, momentum=0.1, affine=True, track_running_stats=True)\n",
      "      (relu): ReLU(inplace=True)\n",
      "      (conv2): Conv2d(128, 128, kernel_size=(3, 3), stride=(1, 1), padding=(1, 1), bias=False)\n",
      "      (bn2): BatchNorm2d(128, eps=1e-05, momentum=0.1, affine=True, track_running_stats=True)\n",
      "    )\n",
      "  )\n",
      "  (layer3): Sequential(\n",
      "    (0): BasicBlock(\n",
      "      (conv1): Conv2d(128, 256, kernel_size=(3, 3), stride=(2, 2), padding=(1, 1), bias=False)\n",
      "      (bn1): BatchNorm2d(256, eps=1e-05, momentum=0.1, affine=True, track_running_stats=True)\n",
      "      (relu): ReLU(inplace=True)\n",
      "      (conv2): Conv2d(256, 256, kernel_size=(3, 3), stride=(1, 1), padding=(1, 1), bias=False)\n",
      "      (bn2): BatchNorm2d(256, eps=1e-05, momentum=0.1, affine=True, track_running_stats=True)\n",
      "      (downsample): Sequential(\n",
      "        (0): Conv2d(128, 256, kernel_size=(1, 1), stride=(2, 2), bias=False)\n",
      "        (1): BatchNorm2d(256, eps=1e-05, momentum=0.1, affine=True, track_running_stats=True)\n",
      "      )\n",
      "    )\n",
      "    (1): BasicBlock(\n",
      "      (conv1): Conv2d(256, 256, kernel_size=(3, 3), stride=(1, 1), padding=(1, 1), bias=False)\n",
      "      (bn1): BatchNorm2d(256, eps=1e-05, momentum=0.1, affine=True, track_running_stats=True)\n",
      "      (relu): ReLU(inplace=True)\n",
      "      (conv2): Conv2d(256, 256, kernel_size=(3, 3), stride=(1, 1), padding=(1, 1), bias=False)\n",
      "      (bn2): BatchNorm2d(256, eps=1e-05, momentum=0.1, affine=True, track_running_stats=True)\n",
      "    )\n",
      "  )\n",
      "  (layer4): Sequential(\n",
      "    (0): BasicBlock(\n",
      "      (conv1): Conv2d(256, 512, kernel_size=(3, 3), stride=(2, 2), padding=(1, 1), bias=False)\n",
      "      (bn1): BatchNorm2d(512, eps=1e-05, momentum=0.1, affine=True, track_running_stats=True)\n",
      "      (relu): ReLU(inplace=True)\n",
      "      (conv2): Conv2d(512, 512, kernel_size=(3, 3), stride=(1, 1), padding=(1, 1), bias=False)\n",
      "      (bn2): BatchNorm2d(512, eps=1e-05, momentum=0.1, affine=True, track_running_stats=True)\n",
      "      (downsample): Sequential(\n",
      "        (0): Conv2d(256, 512, kernel_size=(1, 1), stride=(2, 2), bias=False)\n",
      "        (1): BatchNorm2d(512, eps=1e-05, momentum=0.1, affine=True, track_running_stats=True)\n",
      "      )\n",
      "    )\n",
      "    (1): BasicBlock(\n",
      "      (conv1): Conv2d(512, 512, kernel_size=(3, 3), stride=(1, 1), padding=(1, 1), bias=False)\n",
      "      (bn1): BatchNorm2d(512, eps=1e-05, momentum=0.1, affine=True, track_running_stats=True)\n",
      "      (relu): ReLU(inplace=True)\n",
      "      (conv2): Conv2d(512, 512, kernel_size=(3, 3), stride=(1, 1), padding=(1, 1), bias=False)\n",
      "      (bn2): BatchNorm2d(512, eps=1e-05, momentum=0.1, affine=True, track_running_stats=True)\n",
      "    )\n",
      "  )\n",
      "  (avgpool): AdaptiveAvgPool2d(output_size=(1, 1))\n",
      "  (fc): Linear(in_features=512, out_features=1000, bias=True)\n",
      ")\n"
     ]
    }
   ],
   "source": [
    "print(model)"
   ]
  },
  {
   "cell_type": "code",
   "execution_count": 12,
   "id": "bcb5b922",
   "metadata": {},
   "outputs": [
    {
     "data": {
      "text/plain": [
       "512"
      ]
     },
     "execution_count": 12,
     "metadata": {},
     "output_type": "execute_result"
    }
   ],
   "source": [
    "model.fc.in_features"
   ]
  },
  {
   "cell_type": "markdown",
   "id": "eb74c9ae",
   "metadata": {},
   "source": [
    "### Fine Tuning"
   ]
  },
  {
   "cell_type": "code",
   "execution_count": 21,
   "id": "c07c8634",
   "metadata": {},
   "outputs": [],
   "source": [
    "# freeze all the layers before up to fc\n",
    "for param in model.parameters():\n",
    "    param.requires_grad = False\n",
    "    \n",
    "num_features = model.fc.in_features\n",
    "model.fc = nn.Linear(num_features, 2)"
   ]
  },
  {
   "cell_type": "markdown",
   "id": "38d39ccd",
   "metadata": {},
   "source": [
    "### Loss / Optimizer"
   ]
  },
  {
   "cell_type": "code",
   "execution_count": 23,
   "id": "0b9624db",
   "metadata": {},
   "outputs": [],
   "source": [
    "loss_fn = nn.CrossEntropyLoss()\n",
    "optimizer = optim.SGD(model.parameters(), lr=0.001)"
   ]
  },
  {
   "cell_type": "markdown",
   "id": "5e21c901",
   "metadata": {},
   "source": [
    "### Scheduler"
   ]
  },
  {
   "cell_type": "code",
   "execution_count": 22,
   "id": "107463c0",
   "metadata": {},
   "outputs": [],
   "source": [
    "step_lr_scheduler = lr_scheduler.StepLR(optimizer, step_size=7, gamma=0.1) # every 7 epochs, lr is multiplied by 0.1"
   ]
  },
  {
   "cell_type": "markdown",
   "id": "6d7ce20f",
   "metadata": {},
   "source": [
    "### Train"
   ]
  },
  {
   "cell_type": "code",
   "execution_count": 20,
   "id": "6e436b30",
   "metadata": {},
   "outputs": [],
   "source": [
    "# model = train_model(model, loss_fn, optimizer, scheduler, num_epochs=20)"
   ]
  },
  {
   "cell_type": "markdown",
   "id": "03a93121",
   "metadata": {},
   "source": [
    "# <a name=\"tensorboard\">13. Tensorboard</a>"
   ]
  },
  {
   "cell_type": "code",
   "execution_count": 3,
   "id": "99b21434",
   "metadata": {},
   "outputs": [],
   "source": [
    "import sys\n",
    "sys.path.append('/Library/Frameworks/Python.framework/Versions/3.9/lib/python3.9/site-packages')"
   ]
  },
  {
   "cell_type": "code",
   "execution_count": 4,
   "id": "48abbe76",
   "metadata": {},
   "outputs": [],
   "source": [
    "from torch.utils.tensorboard import SummaryWriter"
   ]
  },
  {
   "cell_type": "code",
   "execution_count": null,
   "id": "dca90428",
   "metadata": {},
   "outputs": [],
   "source": []
  }
 ],
 "metadata": {
  "kernelspec": {
   "display_name": "Python 3 (ipykernel)",
   "language": "python",
   "name": "python3"
  },
  "language_info": {
   "codemirror_mode": {
    "name": "ipython",
    "version": 3
   },
   "file_extension": ".py",
   "mimetype": "text/x-python",
   "name": "python",
   "nbconvert_exporter": "python",
   "pygments_lexer": "ipython3",
   "version": "3.9.7"
  }
 },
 "nbformat": 4,
 "nbformat_minor": 5
}
